{
 "cells": [
  {
   "cell_type": "code",
   "execution_count": 44,
   "metadata": {},
   "outputs": [],
   "source": [
    "\n",
    "lyrics = r\"\"\"\n",
    "Lyrics: *(Whistles)*\n",
    "Once a sloth named Jett    \\\n",
    "In trees he swung, but aimed skyward he'd set\n",
    "Trained so hard, *through skies he flew*\n",
    "To the stars, his dreams came true\n",
    "\n",
    "He soared past planets, beyond the moon  \\\n",
    "Space sloth Jett, in a cosmic tune  \\\n",
    "Fighting threats across the stars  \\\n",
    "Saving galaxies near and far\n",
    "\n",
    "A hero’s cheer in the Lily Way night  \\\n",
    "Jett saved the day, with all his might  \\\n",
    "Up in the cosmos, where heroes play  \\\n",
    "Our sloth Jett leads the way\n",
    "\n",
    "*(Cosmic booms, cheers in the galaxy)*\n",
    "\"\"\"\n"
   ]
  },
  {
   "cell_type": "code",
   "execution_count": 55,
   "metadata": {},
   "outputs": [],
   "source": [
    "from moviepy.editor import VideoFileClip, concatenate_videoclips, AudioFileClip\n",
    "from moviepy.video.fx.loop import loop\n",
    "import ffmpeg\n",
    "import asyncio\n",
    "import time\n",
    "import os\n",
    "\n",
    "async def merge_videos_and_song_with_subtitles(srt_path):\n",
    "    # Step 1: Download song and videos\n",
    "    # async with ClientSession() as session:\n",
    "    #     song_path = await download_file(session, song_url, 'song.mp3')\n",
    "    #     video_paths = []\n",
    "    #     for i, video_url in enumerate(video_urls):\n",
    "    #         video_path = await download_file(session, video_url, f'video_{i+1}.mp4')\n",
    "    #         video_paths.append(video_path)\n",
    "\n",
    "    song_path = './song.mp3'\n",
    "    video_paths = [f'./video_{i+1}.mp4' for i in range(2)]\n",
    "\n",
    "    # Step 2: Load videos using MoviePy\n",
    "    video_clips = [VideoFileClip(video) for video in video_paths]\n",
    "    \n",
    "    # Step 3: Concatenate and loop the videos until they match the song duration\n",
    "    concatenated_clip = concatenate_videoclips(video_clips)\n",
    "\n",
    "    song_audio = AudioFileClip(song_path)\n",
    "    song_duration = song_audio.duration\n",
    "    final_video_clip = loop(concatenated_clip, duration=song_duration)\n",
    "    final_video_clip = final_video_clip.set_audio(song_audio)\n",
    "\n",
    "    # Step 4: Add subtitles using ffmpeg (MoviePy)\n",
    "    # MoviePy uses ffmpeg to overlay the subtitles without ImageMagick.\n",
    "    final_video_with_subtitles = final_video_clip.subclip(0, song_duration).set_duration(song_duration).set_audio(song_audio)\n",
    "\n",
    "    # Step 5: Write the output to a file\n",
    "    output_path = f\"final_output_with_subtitles_{time.time()}.mp4\"\n",
    "    final_video_with_subtitles.write_videofile(output_path, codec='libx265', audio_codec='aac', ffmpeg_params=['-vf', f\"subtitles={srt_path}\", '-preset', 'ultrafast'])\n",
    "\n",
    "    # Step 6: Clean up temporary files\n",
    "    song_audio.close()\n",
    "    final_video_clip.close()\n",
    "    concatenated_clip.close()\n",
    "    final_video_with_subtitles.close()\n",
    "    for video in video_clips:\n",
    "        video.close()\n",
    "    \n",
    "    return output_path"
   ]
  },
  {
   "cell_type": "code",
   "execution_count": 56,
   "metadata": {},
   "outputs": [
    {
     "name": "stdout",
     "output_type": "stream",
     "text": [
      "Moviepy - Building video final_output_with_subtitles_1729436848.9809334.mp4.\n",
      "MoviePy - Writing audio in final_output_with_subtitles_1729436848.9809334TEMP_MPY_wvf_snd.mp4\n"
     ]
    },
    {
     "name": "stderr",
     "output_type": "stream",
     "text": [
      "                                                                      \r"
     ]
    },
    {
     "name": "stdout",
     "output_type": "stream",
     "text": [
      "MoviePy - Done.\n",
      "Moviepy - Writing video final_output_with_subtitles_1729436848.9809334.mp4\n",
      "\n"
     ]
    },
    {
     "name": "stderr",
     "output_type": "stream",
     "text": [
      "                                                                 \r"
     ]
    },
    {
     "name": "stdout",
     "output_type": "stream",
     "text": [
      "Moviepy - Done !\n",
      "Moviepy - video ready final_output_with_subtitles_1729436848.9809334.mp4\n"
     ]
    },
    {
     "data": {
      "text/plain": [
       "'final_output_with_subtitles_1729436848.9809334.mp4'"
      ]
     },
     "execution_count": 56,
     "metadata": {},
     "output_type": "execute_result"
    }
   ],
   "source": [
    "await merge_videos_and_song_with_subtitles('./output.ass')\n"
   ]
  },
  {
   "cell_type": "code",
   "execution_count": 16,
   "metadata": {},
   "outputs": [],
   "source": [
    "import stable_whisper"
   ]
  },
  {
   "cell_type": "code",
   "execution_count": 48,
   "metadata": {},
   "outputs": [],
   "source": [
    "model = stable_whisper.load_model(\"base\")"
   ]
  },
  {
   "cell_type": "code",
   "execution_count": 49,
   "metadata": {},
   "outputs": [],
   "source": [
    "# remove everything in brackets of any sory from lyrics\n",
    "import re\n",
    "lyrics = re.sub(r'\\[.*?\\]|\\(.*?\\)', '', lyrics)\n"
   ]
  },
  {
   "cell_type": "code",
   "execution_count": 70,
   "metadata": {},
   "outputs": [
    {
     "name": "stderr",
     "output_type": "stream",
     "text": [
      "Align: 100%|██████████| 174.02/174.02 [00:00<00:00, 238.34sec/s]\n",
      "Adjustment: 100%|██████████| 89.52/89.52 [00:00<00:00, 44816.67sec/s]\n"
     ]
    }
   ],
   "source": [
    "result = model.align('./song.mp3', lyrics, language='en', fast_mode=True, regroup='cm_sp=,* /，/\\n/\\\\_sg=.5_sp=.* /。/?/？')\n"
   ]
  },
  {
   "cell_type": "code",
   "execution_count": 71,
   "metadata": {},
   "outputs": [
    {
     "name": "stdout",
     "output_type": "stream",
     "text": [
      "[9.62 -> 13.08]  Lyrics: ** Once a sloth named Jett\n",
      "[13.94 -> 13.96]     \\\n",
      "[13.96 -> 15.62]  In trees he swung,\n",
      "[15.82 -> 20.64]  but aimed skyward he'd set Trained so hard,\n",
      "[20.90 -> 25.70]  *through skies he flew* To the stars,\n",
      "[26.20 -> 28.06]  his dreams came true\n",
      "[29.78 -> 30.60]   He soared past planets,\n",
      "[31.58 -> 34.76]  beyond the moon  \\\n",
      "[34.76 -> 36.38]  Space sloth Jett,\n",
      "[36.38 -> 38.94]  in a cosmic tune  \\\n",
      "[38.94 -> 44.24]  Fighting threats across the stars  \\\n",
      "[44.24 -> 53.26]  Saving galaxies near and far  A hero’s cheer in the Lily Way night  \\\n",
      "[53.26 -> 54.18]  Jett saved the day,\n",
      "[54.32 -> 55.90]  with all his might  \\\n",
      "[55.90 -> 56.84]  Up in the cosmos,\n",
      "[56.84 -> 58.40]  where heroes play  \\\n",
      "[58.40 -> 64.62]  Our sloth Jett leads the way  ** \n"
     ]
    }
   ],
   "source": [
    "for segment in result:\n",
    "    print(\"[%.2f -> %.2f] %s\" % (segment.start, segment.end, segment.text))\n",
    "\n"
   ]
  },
  {
   "cell_type": "code",
   "execution_count": 54,
   "metadata": {},
   "outputs": [
    {
     "name": "stdout",
     "output_type": "stream",
     "text": [
      "Saved: c:\\Users\\pmazu\\Documents\\GitHub\\BlinkStory\\output.ass\n"
     ]
    }
   ],
   "source": [
    "srt = result.to_ass('output.ass', karaoke=True)\n"
   ]
  },
  {
   "cell_type": "code",
   "execution_count": 2,
   "metadata": {},
   "outputs": [
    {
     "ename": "RuntimeError",
     "evalue": "Failed to download geckodriver archive: https://github.com/mozilla/geckodriver/releases/download/v0.35.0/geckodriver-v0.35.0-win32.tar.gz",
     "output_type": "error",
     "traceback": [
      "\u001b[1;31m---------------------------------------------------------------------------\u001b[0m",
      "\u001b[1;31mHTTPError\u001b[0m                                 Traceback (most recent call last)",
      "File \u001b[1;32mc:\\Users\\pmazu\\Documents\\GitHub\\BlinkStory\\.venv\\Lib\\site-packages\\geckodriver_autoinstaller\\utils.py:175\u001b[0m, in \u001b[0;36mdownload_geckodriver\u001b[1;34m(cwd)\u001b[0m\n\u001b[0;32m    174\u001b[0m \u001b[38;5;28;01mtry\u001b[39;00m:\n\u001b[1;32m--> 175\u001b[0m     response \u001b[38;5;241m=\u001b[39m \u001b[43murllib\u001b[49m\u001b[38;5;241;43m.\u001b[39;49m\u001b[43mrequest\u001b[49m\u001b[38;5;241;43m.\u001b[39;49m\u001b[43murlopen\u001b[49m\u001b[43m(\u001b[49m\u001b[43murl\u001b[49m\u001b[43m)\u001b[49m\n\u001b[0;32m    176\u001b[0m     \u001b[38;5;28;01mif\u001b[39;00m response\u001b[38;5;241m.\u001b[39mgetcode() \u001b[38;5;241m!=\u001b[39m \u001b[38;5;241m200\u001b[39m:\n",
      "File \u001b[1;32mC:\\Python312\\Lib\\urllib\\request.py:215\u001b[0m, in \u001b[0;36murlopen\u001b[1;34m(url, data, timeout, cafile, capath, cadefault, context)\u001b[0m\n\u001b[0;32m    214\u001b[0m     opener \u001b[38;5;241m=\u001b[39m _opener\n\u001b[1;32m--> 215\u001b[0m \u001b[38;5;28;01mreturn\u001b[39;00m \u001b[43mopener\u001b[49m\u001b[38;5;241;43m.\u001b[39;49m\u001b[43mopen\u001b[49m\u001b[43m(\u001b[49m\u001b[43murl\u001b[49m\u001b[43m,\u001b[49m\u001b[43m \u001b[49m\u001b[43mdata\u001b[49m\u001b[43m,\u001b[49m\u001b[43m \u001b[49m\u001b[43mtimeout\u001b[49m\u001b[43m)\u001b[49m\n",
      "File \u001b[1;32mC:\\Python312\\Lib\\urllib\\request.py:521\u001b[0m, in \u001b[0;36mOpenerDirector.open\u001b[1;34m(self, fullurl, data, timeout)\u001b[0m\n\u001b[0;32m    520\u001b[0m     meth \u001b[38;5;241m=\u001b[39m \u001b[38;5;28mgetattr\u001b[39m(processor, meth_name)\n\u001b[1;32m--> 521\u001b[0m     response \u001b[38;5;241m=\u001b[39m \u001b[43mmeth\u001b[49m\u001b[43m(\u001b[49m\u001b[43mreq\u001b[49m\u001b[43m,\u001b[49m\u001b[43m \u001b[49m\u001b[43mresponse\u001b[49m\u001b[43m)\u001b[49m\n\u001b[0;32m    523\u001b[0m \u001b[38;5;28;01mreturn\u001b[39;00m response\n",
      "File \u001b[1;32mC:\\Python312\\Lib\\urllib\\request.py:630\u001b[0m, in \u001b[0;36mHTTPErrorProcessor.http_response\u001b[1;34m(self, request, response)\u001b[0m\n\u001b[0;32m    629\u001b[0m \u001b[38;5;28;01mif\u001b[39;00m \u001b[38;5;129;01mnot\u001b[39;00m (\u001b[38;5;241m200\u001b[39m \u001b[38;5;241m<\u001b[39m\u001b[38;5;241m=\u001b[39m code \u001b[38;5;241m<\u001b[39m \u001b[38;5;241m300\u001b[39m):\n\u001b[1;32m--> 630\u001b[0m     response \u001b[38;5;241m=\u001b[39m \u001b[38;5;28;43mself\u001b[39;49m\u001b[38;5;241;43m.\u001b[39;49m\u001b[43mparent\u001b[49m\u001b[38;5;241;43m.\u001b[39;49m\u001b[43merror\u001b[49m\u001b[43m(\u001b[49m\n\u001b[0;32m    631\u001b[0m \u001b[43m        \u001b[49m\u001b[38;5;124;43m'\u001b[39;49m\u001b[38;5;124;43mhttp\u001b[39;49m\u001b[38;5;124;43m'\u001b[39;49m\u001b[43m,\u001b[49m\u001b[43m \u001b[49m\u001b[43mrequest\u001b[49m\u001b[43m,\u001b[49m\u001b[43m \u001b[49m\u001b[43mresponse\u001b[49m\u001b[43m,\u001b[49m\u001b[43m \u001b[49m\u001b[43mcode\u001b[49m\u001b[43m,\u001b[49m\u001b[43m \u001b[49m\u001b[43mmsg\u001b[49m\u001b[43m,\u001b[49m\u001b[43m \u001b[49m\u001b[43mhdrs\u001b[49m\u001b[43m)\u001b[49m\n\u001b[0;32m    633\u001b[0m \u001b[38;5;28;01mreturn\u001b[39;00m response\n",
      "File \u001b[1;32mC:\\Python312\\Lib\\urllib\\request.py:559\u001b[0m, in \u001b[0;36mOpenerDirector.error\u001b[1;34m(self, proto, *args)\u001b[0m\n\u001b[0;32m    558\u001b[0m args \u001b[38;5;241m=\u001b[39m (\u001b[38;5;28mdict\u001b[39m, \u001b[38;5;124m'\u001b[39m\u001b[38;5;124mdefault\u001b[39m\u001b[38;5;124m'\u001b[39m, \u001b[38;5;124m'\u001b[39m\u001b[38;5;124mhttp_error_default\u001b[39m\u001b[38;5;124m'\u001b[39m) \u001b[38;5;241m+\u001b[39m orig_args\n\u001b[1;32m--> 559\u001b[0m \u001b[38;5;28;01mreturn\u001b[39;00m \u001b[38;5;28;43mself\u001b[39;49m\u001b[38;5;241;43m.\u001b[39;49m\u001b[43m_call_chain\u001b[49m\u001b[43m(\u001b[49m\u001b[38;5;241;43m*\u001b[39;49m\u001b[43margs\u001b[49m\u001b[43m)\u001b[49m\n",
      "File \u001b[1;32mC:\\Python312\\Lib\\urllib\\request.py:492\u001b[0m, in \u001b[0;36mOpenerDirector._call_chain\u001b[1;34m(self, chain, kind, meth_name, *args)\u001b[0m\n\u001b[0;32m    491\u001b[0m func \u001b[38;5;241m=\u001b[39m \u001b[38;5;28mgetattr\u001b[39m(handler, meth_name)\n\u001b[1;32m--> 492\u001b[0m result \u001b[38;5;241m=\u001b[39m \u001b[43mfunc\u001b[49m\u001b[43m(\u001b[49m\u001b[38;5;241;43m*\u001b[39;49m\u001b[43margs\u001b[49m\u001b[43m)\u001b[49m\n\u001b[0;32m    493\u001b[0m \u001b[38;5;28;01mif\u001b[39;00m result \u001b[38;5;129;01mis\u001b[39;00m \u001b[38;5;129;01mnot\u001b[39;00m \u001b[38;5;28;01mNone\u001b[39;00m:\n",
      "File \u001b[1;32mC:\\Python312\\Lib\\urllib\\request.py:639\u001b[0m, in \u001b[0;36mHTTPDefaultErrorHandler.http_error_default\u001b[1;34m(self, req, fp, code, msg, hdrs)\u001b[0m\n\u001b[0;32m    638\u001b[0m \u001b[38;5;28;01mdef\u001b[39;00m \u001b[38;5;21mhttp_error_default\u001b[39m(\u001b[38;5;28mself\u001b[39m, req, fp, code, msg, hdrs):\n\u001b[1;32m--> 639\u001b[0m     \u001b[38;5;28;01mraise\u001b[39;00m HTTPError(req\u001b[38;5;241m.\u001b[39mfull_url, code, msg, hdrs, fp)\n",
      "\u001b[1;31mHTTPError\u001b[0m: HTTP Error 404: Not Found",
      "\nDuring handling of the above exception, another exception occurred:\n",
      "\u001b[1;31mRuntimeError\u001b[0m                              Traceback (most recent call last)",
      "Cell \u001b[1;32mIn[2], line 5\u001b[0m\n\u001b[0;32m      1\u001b[0m \u001b[38;5;28;01mfrom\u001b[39;00m \u001b[38;5;21;01mselenium_uploader\u001b[39;00m \u001b[38;5;28;01mimport\u001b[39;00m YouTubeUploader\n\u001b[0;32m      3\u001b[0m video_path \u001b[38;5;241m=\u001b[39m \u001b[38;5;124m'\u001b[39m\u001b[38;5;124m./final_output_with_subtitles_1729377765.165649.mp4\u001b[39m\u001b[38;5;124m'\u001b[39m\n\u001b[1;32m----> 5\u001b[0m uploader \u001b[38;5;241m=\u001b[39m \u001b[43mYouTubeUploader\u001b[49m\u001b[43m(\u001b[49m\u001b[43mvideo_path\u001b[49m\u001b[43m)\u001b[49m\n\u001b[0;32m      6\u001b[0m was_video_uploaded, video_id \u001b[38;5;241m=\u001b[39m uploader\u001b[38;5;241m.\u001b[39mupload()\n\u001b[0;32m      7\u001b[0m \u001b[38;5;28;01massert\u001b[39;00m was_video_uploaded\n",
      "File \u001b[1;32mc:\\Users\\pmazu\\Documents\\GitHub\\BlinkStory\\selenium_uploader\\__init__.py:29\u001b[0m, in \u001b[0;36mYouTubeUploader.__init__\u001b[1;34m(self, video_path, metadata_json, thumbnail_path, profile_path)\u001b[0m\n\u001b[0;32m     27\u001b[0m \u001b[38;5;28mself\u001b[39m\u001b[38;5;241m.\u001b[39mthumbnail_path \u001b[38;5;241m=\u001b[39m thumbnail_path\n\u001b[0;32m     28\u001b[0m \u001b[38;5;28mself\u001b[39m\u001b[38;5;241m.\u001b[39mmetadata_dict \u001b[38;5;241m=\u001b[39m metadata_json\n\u001b[1;32m---> 29\u001b[0m \u001b[38;5;28mself\u001b[39m\u001b[38;5;241m.\u001b[39mbrowser \u001b[38;5;241m=\u001b[39m \u001b[43mFirefox\u001b[49m\u001b[43m(\u001b[49m\u001b[43mprofile_path\u001b[49m\u001b[38;5;241;43m=\u001b[39;49m\u001b[43mprofile_path\u001b[49m\u001b[43m,\u001b[49m\u001b[43m \u001b[49m\u001b[43mpickle_cookies\u001b[49m\u001b[38;5;241;43m=\u001b[39;49m\u001b[38;5;28;43;01mTrue\u001b[39;49;00m\u001b[43m,\u001b[49m\u001b[43m \u001b[49m\u001b[43mfull_screen\u001b[49m\u001b[38;5;241;43m=\u001b[39;49m\u001b[38;5;28;43;01mFalse\u001b[39;49;00m\u001b[43m)\u001b[49m\n\u001b[0;32m     30\u001b[0m \u001b[38;5;28mself\u001b[39m\u001b[38;5;241m.\u001b[39mlogger \u001b[38;5;241m=\u001b[39m logging\u001b[38;5;241m.\u001b[39mgetLogger(\u001b[38;5;18m__name__\u001b[39m)\n\u001b[0;32m     31\u001b[0m \u001b[38;5;28mself\u001b[39m\u001b[38;5;241m.\u001b[39mlogger\u001b[38;5;241m.\u001b[39msetLevel(logging\u001b[38;5;241m.\u001b[39mDEBUG)\n",
      "File \u001b[1;32mc:\\Users\\pmazu\\Documents\\GitHub\\BlinkStory\\.venv\\Lib\\site-packages\\selenium_firefox\\firefox.py:100\u001b[0m, in \u001b[0;36mFirefox.__init__\u001b[1;34m(self, profile_path, profile_id, pickle_cookies, proxy, addons_folder_path, addon_settings, extensions_folder_path, geckodriver_path, firefox_binary_path, private, full_screen, language, user_agent, disable_images, mute_audio, screen_size, headless, home_page_url, webdriver_class, default_find_func_timeout)\u001b[0m\n\u001b[0;32m     91\u001b[0m \u001b[38;5;28;01mif\u001b[39;00m proxy \u001b[38;5;129;01mand\u001b[39;00m proxy\u001b[38;5;241m.\u001b[39mneeds_auth:\n\u001b[0;32m     92\u001b[0m     addon_settings\u001b[38;5;241m.\u001b[39mappend(FoxyProxyAddonSettings())\n\u001b[0;32m     94\u001b[0m \u001b[38;5;28msuper\u001b[39m()\u001b[38;5;241m.\u001b[39m\u001b[38;5;21m__init__\u001b[39m(\n\u001b[0;32m     95\u001b[0m     webdriver_class \u001b[38;5;129;01mor\u001b[39;00m FirefoxWebDriver,\n\u001b[0;32m     96\u001b[0m     cookies_folder_path\u001b[38;5;241m=\u001b[39mcookies_folder_path,\n\u001b[0;32m     97\u001b[0m     pickle_cookies\u001b[38;5;241m=\u001b[39mpickle_cookies,\n\u001b[0;32m     98\u001b[0m     proxy\u001b[38;5;241m=\u001b[39mproxy,\n\u001b[0;32m     99\u001b[0m     default_find_func_timeout\u001b[38;5;241m=\u001b[39mdefault_find_func_timeout,\n\u001b[1;32m--> 100\u001b[0m     webdriver_executable_path\u001b[38;5;241m=\u001b[39m\u001b[43mUtils\u001b[49m\u001b[38;5;241;43m.\u001b[39;49m\u001b[43mget_geckodriver_path\u001b[49m\u001b[43m(\u001b[49m\u001b[43mgeckodriver_path\u001b[49m\u001b[43m)\u001b[49m,\n\u001b[0;32m    101\u001b[0m     firefox_profile\u001b[38;5;241m=\u001b[39mUtils\u001b[38;5;241m.\u001b[39mprofile(\n\u001b[0;32m    102\u001b[0m         user_agent\u001b[38;5;241m=\u001b[39mBrowserUtils\u001b[38;5;241m.\u001b[39muser_agent(\n\u001b[0;32m    103\u001b[0m             user_agent\u001b[38;5;241m=\u001b[39muser_agent,\n\u001b[0;32m    104\u001b[0m             file_path\u001b[38;5;241m=\u001b[39muser_agent_file_path\n\u001b[0;32m    105\u001b[0m         ),\n\u001b[0;32m    106\u001b[0m         language\u001b[38;5;241m=\u001b[39mlanguage,\n\u001b[0;32m    107\u001b[0m         private\u001b[38;5;241m=\u001b[39mprivate,\n\u001b[0;32m    108\u001b[0m         disable_images\u001b[38;5;241m=\u001b[39mdisable_images,\n\u001b[0;32m    109\u001b[0m         mute_audio\u001b[38;5;241m=\u001b[39mmute_audio,\n\u001b[0;32m    110\u001b[0m         proxy\u001b[38;5;241m=\u001b[39mproxy \u001b[38;5;28;01mif\u001b[39;00m proxy \u001b[38;5;129;01mand\u001b[39;00m \u001b[38;5;129;01mnot\u001b[39;00m proxy\u001b[38;5;241m.\u001b[39mneeds_auth \u001b[38;5;28;01melse\u001b[39;00m \u001b[38;5;28;01mNone\u001b[39;00m,\n\u001b[0;32m    111\u001b[0m         path\u001b[38;5;241m=\u001b[39mprofile_path\n\u001b[0;32m    112\u001b[0m     ),\n\u001b[0;32m    113\u001b[0m     options\u001b[38;5;241m=\u001b[39mUtils\u001b[38;5;241m.\u001b[39moptions(\n\u001b[0;32m    114\u001b[0m         screen_size\u001b[38;5;241m=\u001b[39mscreen_size,\n\u001b[0;32m    115\u001b[0m         headless\u001b[38;5;241m=\u001b[39mheadless,\n\u001b[0;32m    116\u001b[0m         home_page_url\u001b[38;5;241m=\u001b[39mhome_page_url\n\u001b[0;32m    117\u001b[0m     ),\n\u001b[0;32m    118\u001b[0m     firefox_binary\u001b[38;5;241m=\u001b[39mUtils\u001b[38;5;241m.\u001b[39mget_firefox_binary(firefox_binary_path)\n\u001b[0;32m    119\u001b[0m )\n\u001b[0;32m    121\u001b[0m \u001b[38;5;28;01mif\u001b[39;00m full_screen:\n\u001b[0;32m    122\u001b[0m     \u001b[38;5;28mself\u001b[39m\u001b[38;5;241m.\u001b[39mdriver\u001b[38;5;241m.\u001b[39mfullscreen_window()\n",
      "File \u001b[1;32mc:\\Users\\pmazu\\Documents\\GitHub\\BlinkStory\\.venv\\Lib\\site-packages\\selenium_firefox\\__utils.py:44\u001b[0m, in \u001b[0;36mUtils.get_geckodriver_path\u001b[1;34m(cls, user_passed_geckodriver_path)\u001b[0m\n\u001b[0;32m     42\u001b[0m     \u001b[38;5;28;01mreturn\u001b[39;00m user_passed_geckodriver_path\n\u001b[0;32m     43\u001b[0m \u001b[38;5;28;01melif\u001b[39;00m \u001b[38;5;129;01mnot\u001b[39;00m \u001b[38;5;28mcls\u001b[39m\u001b[38;5;241m.\u001b[39mis_geckodriver_installed():\n\u001b[1;32m---> 44\u001b[0m     \u001b[38;5;28;01mreturn\u001b[39;00m \u001b[43mgeckodriver_autoinstaller\u001b[49m\u001b[38;5;241;43m.\u001b[39;49m\u001b[43minstall\u001b[49m\u001b[43m(\u001b[49m\u001b[43m)\u001b[49m\n\u001b[0;32m     46\u001b[0m \u001b[38;5;28;01mreturn\u001b[39;00m \u001b[38;5;28;01mNone\u001b[39;00m\n",
      "File \u001b[1;32mc:\\Users\\pmazu\\Documents\\GitHub\\BlinkStory\\.venv\\Lib\\site-packages\\geckodriver_autoinstaller\\__init__.py:15\u001b[0m, in \u001b[0;36minstall\u001b[1;34m(cwd)\u001b[0m\n\u001b[0;32m      8\u001b[0m \u001b[38;5;28;01mdef\u001b[39;00m \u001b[38;5;21minstall\u001b[39m(cwd\u001b[38;5;241m=\u001b[39m\u001b[38;5;28;01mFalse\u001b[39;00m):\n\u001b[0;32m      9\u001b[0m \u001b[38;5;250m    \u001b[39m\u001b[38;5;124;03m\"\"\"\u001b[39;00m\n\u001b[0;32m     10\u001b[0m \u001b[38;5;124;03m    Appends the directory of the geckodriver binary file to PATH.\u001b[39;00m\n\u001b[0;32m     11\u001b[0m \n\u001b[0;32m     12\u001b[0m \u001b[38;5;124;03m    :param cwd: Flag indicating whether to download to current working directory\u001b[39;00m\n\u001b[0;32m     13\u001b[0m \u001b[38;5;124;03m    :return: The file path of geckodriver\u001b[39;00m\n\u001b[0;32m     14\u001b[0m \u001b[38;5;124;03m    \"\"\"\u001b[39;00m\n\u001b[1;32m---> 15\u001b[0m     geckodriver_filepath \u001b[38;5;241m=\u001b[39m \u001b[43mutils\u001b[49m\u001b[38;5;241;43m.\u001b[39;49m\u001b[43mdownload_geckodriver\u001b[49m\u001b[43m(\u001b[49m\u001b[43mcwd\u001b[49m\u001b[43m)\u001b[49m\n\u001b[0;32m     16\u001b[0m     \u001b[38;5;28;01mif\u001b[39;00m \u001b[38;5;129;01mnot\u001b[39;00m geckodriver_filepath:\n\u001b[0;32m     17\u001b[0m         logging\u001b[38;5;241m.\u001b[39mdebug(\u001b[38;5;124m'\u001b[39m\u001b[38;5;124mCan not download geckodriver.\u001b[39m\u001b[38;5;124m'\u001b[39m)\n",
      "File \u001b[1;32mc:\\Users\\pmazu\\Documents\\GitHub\\BlinkStory\\.venv\\Lib\\site-packages\\geckodriver_autoinstaller\\utils.py:179\u001b[0m, in \u001b[0;36mdownload_geckodriver\u001b[1;34m(cwd)\u001b[0m\n\u001b[0;32m    177\u001b[0m         \u001b[38;5;28;01mraise\u001b[39;00m urllib\u001b[38;5;241m.\u001b[39merror\u001b[38;5;241m.\u001b[39mURLError(\u001b[38;5;124m'\u001b[39m\u001b[38;5;124mNot Found\u001b[39m\u001b[38;5;124m'\u001b[39m)\n\u001b[0;32m    178\u001b[0m \u001b[38;5;28;01mexcept\u001b[39;00m urllib\u001b[38;5;241m.\u001b[39merror\u001b[38;5;241m.\u001b[39mURLError:\n\u001b[1;32m--> 179\u001b[0m     \u001b[38;5;28;01mraise\u001b[39;00m \u001b[38;5;167;01mRuntimeError\u001b[39;00m(\u001b[38;5;124mf\u001b[39m\u001b[38;5;124m'\u001b[39m\u001b[38;5;124mFailed to download geckodriver archive: \u001b[39m\u001b[38;5;132;01m{\u001b[39;00murl\u001b[38;5;132;01m}\u001b[39;00m\u001b[38;5;124m'\u001b[39m)\n\u001b[0;32m    180\u001b[0m archive \u001b[38;5;241m=\u001b[39m BytesIO(response\u001b[38;5;241m.\u001b[39mread())\n\u001b[0;32m    182\u001b[0m tar \u001b[38;5;241m=\u001b[39m tarfile\u001b[38;5;241m.\u001b[39mopen(fileobj\u001b[38;5;241m=\u001b[39marchive, mode\u001b[38;5;241m=\u001b[39m\u001b[38;5;124m'\u001b[39m\u001b[38;5;124mr:gz\u001b[39m\u001b[38;5;124m'\u001b[39m)\n",
      "\u001b[1;31mRuntimeError\u001b[0m: Failed to download geckodriver archive: https://github.com/mozilla/geckodriver/releases/download/v0.35.0/geckodriver-v0.35.0-win32.tar.gz"
     ]
    }
   ],
   "source": [
    "from selenium_uploader import YouTubeUploader\n",
    "\n",
    "video_path = './final_output_with_subtitles_1729377765.165649.mp4'\n",
    "\n",
    "uploader = YouTubeUploader(video_path)\n",
    "was_video_uploaded, video_id = uploader.upload()\n",
    "assert was_video_uploaded"
   ]
  },
  {
   "cell_type": "code",
   "execution_count": 1,
   "metadata": {},
   "outputs": [],
   "source": [
    "import faker"
   ]
  },
  {
   "cell_type": "code",
   "execution_count": 1,
   "metadata": {},
   "outputs": [
    {
     "name": "stdout",
     "output_type": "stream",
     "text": [
      "[!] HTTPSConnectionPool(host='docs.google.com', port=443): Max retries exceeded with url: /forms/u/0/d/e/1FAIpQLSca_ae9bJROjrZ8ts8n6lu_r1IhV4LmDF_gSbQ5RcyNLdXlkQ/formResponse (Caused by ProxyError('Unable to connect to proxy', ConnectTimeoutError(<urllib3.connection.HTTPSConnection object at 0x000001D1262D9970>, 'Connection to 104.154.143.77 timed out. (connect timeout=None)')))\n",
      "[!] HTTPSConnectionPool(host='docs.google.com', port=443): Max retries exceeded with url: /forms/u/0/d/e/1FAIpQLSca_ae9bJROjrZ8ts8n6lu_r1IhV4LmDF_gSbQ5RcyNLdXlkQ/formResponse (Caused by ProxyError('Unable to connect to proxy', ConnectTimeoutError(<urllib3.connection.HTTPSConnection object at 0x000001D1262DA300>, 'Connection to 192.41.71.204 timed out. (connect timeout=None)')))\n",
      "[!] HTTPSConnectionPool(host='docs.google.com', port=443): Max retries exceeded with url: /forms/u/0/d/e/1FAIpQLSca_ae9bJROjrZ8ts8n6lu_r1IhV4LmDF_gSbQ5RcyNLdXlkQ/formResponse (Caused by ProxyError('Unable to connect to proxy', ConnectTimeoutError(<urllib3.connection.HTTPSConnection object at 0x000001D1262DB0E0>, 'Connection to 104.154.143.77 timed out. (connect timeout=None)')))\n",
      "[!] HTTPSConnectionPool(host='docs.google.com', port=443): Max retries exceeded with url: /forms/u/0/d/e/1FAIpQLSca_ae9bJROjrZ8ts8n6lu_r1IhV4LmDF_gSbQ5RcyNLdXlkQ/formResponse (Caused by ProxyError('Unable to connect to proxy', ConnectTimeoutError(<urllib3.connection.HTTPSConnection object at 0x000001D1262E8680>, 'Connection to 104.154.143.77 timed out. (connect timeout=None)')))\n",
      "[!] HTTPSConnectionPool(host='docs.google.com', port=443): Max retries exceeded with url: /forms/u/0/d/e/1FAIpQLSca_ae9bJROjrZ8ts8n6lu_r1IhV4LmDF_gSbQ5RcyNLdXlkQ/formResponse (Caused by ProxyError('Unable to connect to proxy', ConnectTimeoutError(<urllib3.connection.HTTPSConnection object at 0x000001D1262ADAC0>, 'Connection to 104.154.143.77 timed out. (connect timeout=None)')))\n",
      "[!] HTTPSConnectionPool(host='docs.google.com', port=443): Max retries exceeded with url: /forms/u/0/d/e/1FAIpQLSca_ae9bJROjrZ8ts8n6lu_r1IhV4LmDF_gSbQ5RcyNLdXlkQ/formResponse (Caused by ProxyError('Unable to connect to proxy', ConnectTimeoutError(<urllib3.connection.HTTPSConnection object at 0x000001D1262E99A0>, 'Connection to 144.217.101.242 timed out. (connect timeout=None)')))\n",
      "[!] HTTPSConnectionPool(host='docs.google.com', port=443): Max retries exceeded with url: /forms/u/0/d/e/1FAIpQLSca_ae9bJROjrZ8ts8n6lu_r1IhV4LmDF_gSbQ5RcyNLdXlkQ/formResponse (Caused by ProxyError('Unable to connect to proxy', ConnectTimeoutError(<urllib3.connection.HTTPSConnection object at 0x000001D1262DAE40>, 'Connection to 192.41.71.204 timed out. (connect timeout=None)')))\n",
      "[!] HTTPSConnectionPool(host='docs.google.com', port=443): Max retries exceeded with url: /forms/u/0/d/e/1FAIpQLSca_ae9bJROjrZ8ts8n6lu_r1IhV4LmDF_gSbQ5RcyNLdXlkQ/formResponse (Caused by ProxyError('Unable to connect to proxy', ConnectTimeoutError(<urllib3.connection.HTTPSConnection object at 0x000001D1262E8D40>, 'Connection to 104.154.143.77 timed out. (connect timeout=None)')))\n",
      "[!] HTTPSConnectionPool(host='docs.google.com', port=443): Max retries exceeded with url: /forms/u/0/d/e/1FAIpQLSca_ae9bJROjrZ8ts8n6lu_r1IhV4LmDF_gSbQ5RcyNLdXlkQ/formResponse (Caused by ProxyError('Unable to connect to proxy', ConnectTimeoutError(<urllib3.connection.HTTPSConnection object at 0x000001D1262DB680>, 'Connection to 104.154.143.77 timed out. (connect timeout=None)')))\n",
      "[!] HTTPSConnectionPool(host='docs.google.com', port=443): Max retries exceeded with url: /forms/u/0/d/e/1FAIpQLSca_ae9bJROjrZ8ts8n6lu_r1IhV4LmDF_gSbQ5RcyNLdXlkQ/formResponse (Caused by ProxyError('Unable to connect to proxy', ConnectTimeoutError(<urllib3.connection.HTTPSConnection object at 0x000001D1262DBF80>, 'Connection to 192.41.13.71 timed out. (connect timeout=None)')))\n",
      "[!] HTTPSConnectionPool(host='docs.google.com', port=443): Max retries exceeded with url: /forms/u/0/d/e/1FAIpQLSca_ae9bJROjrZ8ts8n6lu_r1IhV4LmDF_gSbQ5RcyNLdXlkQ/formResponse (Caused by ProxyError('Unable to connect to proxy', ConnectTimeoutError(<urllib3.connection.HTTPSConnection object at 0x000001D126320D40>, 'Connection to 192.41.13.71 timed out. (connect timeout=None)')))\n",
      "[!] HTTPSConnectionPool(host='docs.google.com', port=443): Max retries exceeded with url: /forms/u/0/d/e/1FAIpQLSca_ae9bJROjrZ8ts8n6lu_r1IhV4LmDF_gSbQ5RcyNLdXlkQ/formResponse (Caused by ProxyError('Unable to connect to proxy', ConnectTimeoutError(<urllib3.connection.HTTPSConnection object at 0x000001D1262EB200>, 'Connection to 144.217.101.242 timed out. (connect timeout=None)')))\n",
      "[!] HTTPSConnectionPool(host='docs.google.com', port=443): Max retries exceeded with url: /forms/u/0/d/e/1FAIpQLSca_ae9bJROjrZ8ts8n6lu_r1IhV4LmDF_gSbQ5RcyNLdXlkQ/formResponse (Caused by ProxyError('Unable to connect to proxy', ConnectTimeoutError(<urllib3.connection.HTTPSConnection object at 0x000001D126322240>, 'Connection to 104.154.143.77 timed out. (connect timeout=None)')))\n",
      "[!] HTTPSConnectionPool(host='docs.google.com', port=443): Max retries exceeded with url: /forms/u/0/d/e/1FAIpQLSca_ae9bJROjrZ8ts8n6lu_r1IhV4LmDF_gSbQ5RcyNLdXlkQ/formResponse (Caused by ProxyError('Unable to connect to proxy', ConnectTimeoutError(<urllib3.connection.HTTPSConnection object at 0x000001D1263230B0>, 'Connection to 104.154.143.77 timed out. (connect timeout=None)')))\n",
      "[!] HTTPSConnectionPool(host='docs.google.com', port=443): Max retries exceeded with url: /forms/u/0/d/e/1FAIpQLSca_ae9bJROjrZ8ts8n6lu_r1IhV4LmDF_gSbQ5RcyNLdXlkQ/formResponse (Caused by ProxyError('Unable to connect to proxy', ConnectTimeoutError(<urllib3.connection.HTTPSConnection object at 0x000001D126320410>, 'Connection to 192.41.13.71 timed out. (connect timeout=None)')))\n",
      "[!] HTTPSConnectionPool(host='docs.google.com', port=443): Max retries exceeded with url: /forms/u/0/d/e/1FAIpQLSca_ae9bJROjrZ8ts8n6lu_r1IhV4LmDF_gSbQ5RcyNLdXlkQ/formResponse (Caused by ProxyError('Unable to connect to proxy', ConnectTimeoutError(<urllib3.connection.HTTPSConnection object at 0x000001D12633DFA0>, 'Connection to 144.217.101.242 timed out. (connect timeout=None)')))\n",
      "[!] HTTPSConnectionPool(host='docs.google.com', port=443): Max retries exceeded with url: /forms/u/0/d/e/1FAIpQLSca_ae9bJROjrZ8ts8n6lu_r1IhV4LmDF_gSbQ5RcyNLdXlkQ/formResponse (Caused by ProxyError('Unable to connect to proxy', ConnectTimeoutError(<urllib3.connection.HTTPSConnection object at 0x000001D12633E3F0>, 'Connection to 192.41.71.204 timed out. (connect timeout=None)')))\n",
      "[!] HTTPSConnectionPool(host='docs.google.com', port=443): Max retries exceeded with url: /forms/u/0/d/e/1FAIpQLSca_ae9bJROjrZ8ts8n6lu_r1IhV4LmDF_gSbQ5RcyNLdXlkQ/formResponse (Caused by ProxyError('Unable to connect to proxy', ConnectTimeoutError(<urllib3.connection.HTTPSConnection object at 0x000001D12633D280>, 'Connection to 192.41.13.71 timed out. (connect timeout=None)')))\n",
      "[!] HTTPSConnectionPool(host='docs.google.com', port=443): Max retries exceeded with url: /forms/u/0/d/e/1FAIpQLSca_ae9bJROjrZ8ts8n6lu_r1IhV4LmDF_gSbQ5RcyNLdXlkQ/formResponse (Caused by ProxyError('Unable to connect to proxy', ConnectTimeoutError(<urllib3.connection.HTTPSConnection object at 0x000001D126354170>, 'Connection to 144.217.101.242 timed out. (connect timeout=None)')))\n",
      "[!] HTTPSConnectionPool(host='docs.google.com', port=443): Max retries exceeded with url: /forms/u/0/d/e/1FAIpQLSca_ae9bJROjrZ8ts8n6lu_r1IhV4LmDF_gSbQ5RcyNLdXlkQ/formResponse (Caused by ProxyError('Unable to connect to proxy', ConnectTimeoutError(<urllib3.connection.HTTPSConnection object at 0x000001D12633F9B0>, 'Connection to 104.154.143.77 timed out. (connect timeout=None)')))\n",
      "[!] HTTPSConnectionPool(host='docs.google.com', port=443): Max retries exceeded with url: /forms/u/0/d/e/1FAIpQLSca_ae9bJROjrZ8ts8n6lu_r1IhV4LmDF_gSbQ5RcyNLdXlkQ/formResponse (Caused by ProxyError('Unable to connect to proxy', ConnectTimeoutError(<urllib3.connection.HTTPSConnection object at 0x000001D1263552B0>, 'Connection to 104.154.143.77 timed out. (connect timeout=None)')))\n",
      "[!] HTTPSConnectionPool(host='docs.google.com', port=443): Max retries exceeded with url: /forms/u/0/d/e/1FAIpQLSca_ae9bJROjrZ8ts8n6lu_r1IhV4LmDF_gSbQ5RcyNLdXlkQ/formResponse (Caused by ProxyError('Unable to connect to proxy', ConnectTimeoutError(<urllib3.connection.HTTPSConnection object at 0x000001D126323830>, 'Connection to 104.154.143.77 timed out. (connect timeout=None)')))\n",
      "[!] HTTPSConnectionPool(host='docs.google.com', port=443): Max retries exceeded with url: /forms/u/0/d/e/1FAIpQLSca_ae9bJROjrZ8ts8n6lu_r1IhV4LmDF_gSbQ5RcyNLdXlkQ/formResponse (Caused by ProxyError('Unable to connect to proxy', ConnectTimeoutError(<urllib3.connection.HTTPSConnection object at 0x000001D1263782C0>, 'Connection to 192.41.13.71 timed out. (connect timeout=None)')))\n",
      "[!] HTTPSConnectionPool(host='docs.google.com', port=443): Max retries exceeded with url: /forms/u/0/d/e/1FAIpQLSca_ae9bJROjrZ8ts8n6lu_r1IhV4LmDF_gSbQ5RcyNLdXlkQ/formResponse (Caused by ProxyError('Unable to connect to proxy', ConnectTimeoutError(<urllib3.connection.HTTPSConnection object at 0x000001D1262EBF20>, 'Connection to 104.154.143.77 timed out. (connect timeout=None)')))\n",
      "[!] HTTPSConnectionPool(host='docs.google.com', port=443): Max retries exceeded with url: /forms/u/0/d/e/1FAIpQLSca_ae9bJROjrZ8ts8n6lu_r1IhV4LmDF_gSbQ5RcyNLdXlkQ/formResponse (Caused by ProxyError('Unable to connect to proxy', ConnectTimeoutError(<urllib3.connection.HTTPSConnection object at 0x000001D126378770>, 'Connection to 192.41.13.71 timed out. (connect timeout=None)')))\n",
      "[!] HTTPSConnectionPool(host='docs.google.com', port=443): Max retries exceeded with url: /forms/u/0/d/e/1FAIpQLSca_ae9bJROjrZ8ts8n6lu_r1IhV4LmDF_gSbQ5RcyNLdXlkQ/formResponse (Caused by ProxyError('Unable to connect to proxy', ConnectTimeoutError(<urllib3.connection.HTTPSConnection object at 0x000001D126357B30>, 'Connection to 192.41.71.204 timed out. (connect timeout=None)')))\n",
      "[!] HTTPSConnectionPool(host='docs.google.com', port=443): Max retries exceeded with url: /forms/u/0/d/e/1FAIpQLSca_ae9bJROjrZ8ts8n6lu_r1IhV4LmDF_gSbQ5RcyNLdXlkQ/formResponse (Caused by ProxyError('Unable to connect to proxy', ConnectTimeoutError(<urllib3.connection.HTTPSConnection object at 0x000001D126356120>, 'Connection to 192.41.13.71 timed out. (connect timeout=None)')))\n",
      "[!] HTTPSConnectionPool(host='docs.google.com', port=443): Max retries exceeded with url: /forms/u/0/d/e/1FAIpQLSca_ae9bJROjrZ8ts8n6lu_r1IhV4LmDF_gSbQ5RcyNLdXlkQ/formResponse (Caused by ProxyError('Unable to connect to proxy', ConnectTimeoutError(<urllib3.connection.HTTPSConnection object at 0x000001D12637B4A0>, 'Connection to 104.154.143.77 timed out. (connect timeout=None)')))\n",
      "[!] HTTPSConnectionPool(host='docs.google.com', port=443): Max retries exceeded with url: /forms/u/0/d/e/1FAIpQLSca_ae9bJROjrZ8ts8n6lu_r1IhV4LmDF_gSbQ5RcyNLdXlkQ/formResponse (Caused by ProxyError('Unable to connect to proxy', ConnectTimeoutError(<urllib3.connection.HTTPSConnection object at 0x000001D1263565A0>, 'Connection to 104.154.143.77 timed out. (connect timeout=None)')))\n",
      "[!] HTTPSConnectionPool(host='docs.google.com', port=443): Max retries exceeded with url: /forms/u/0/d/e/1FAIpQLSca_ae9bJROjrZ8ts8n6lu_r1IhV4LmDF_gSbQ5RcyNLdXlkQ/formResponse (Caused by ProxyError('Unable to connect to proxy', ConnectTimeoutError(<urllib3.connection.HTTPSConnection object at 0x000001D1263793D0>, 'Connection to 104.154.143.77 timed out. (connect timeout=None)')))\n",
      "[!] HTTPSConnectionPool(host='docs.google.com', port=443): Max retries exceeded with url: /forms/u/0/d/e/1FAIpQLSca_ae9bJROjrZ8ts8n6lu_r1IhV4LmDF_gSbQ5RcyNLdXlkQ/formResponse (Caused by ProxyError('Unable to connect to proxy', ConnectTimeoutError(<urllib3.connection.HTTPSConnection object at 0x000001D1263909E0>, 'Connection to 192.41.13.71 timed out. (connect timeout=None)')))\n",
      "[!] HTTPSConnectionPool(host='docs.google.com', port=443): Max retries exceeded with url: /forms/u/0/d/e/1FAIpQLSca_ae9bJROjrZ8ts8n6lu_r1IhV4LmDF_gSbQ5RcyNLdXlkQ/formResponse (Caused by ProxyError('Unable to connect to proxy', ConnectTimeoutError(<urllib3.connection.HTTPSConnection object at 0x000001D12637A780>, 'Connection to 192.41.71.204 timed out. (connect timeout=None)')))\n",
      "[!] HTTPSConnectionPool(host='docs.google.com', port=443): Max retries exceeded with url: /forms/u/0/d/e/1FAIpQLSca_ae9bJROjrZ8ts8n6lu_r1IhV4LmDF_gSbQ5RcyNLdXlkQ/formResponse (Caused by ProxyError('Unable to connect to proxy', ConnectTimeoutError(<urllib3.connection.HTTPSConnection object at 0x000001D126392900>, 'Connection to 192.41.13.71 timed out. (connect timeout=None)')))\n",
      "[!] HTTPSConnectionPool(host='docs.google.com', port=443): Max retries exceeded with url: /forms/u/0/d/e/1FAIpQLSca_ae9bJROjrZ8ts8n6lu_r1IhV4LmDF_gSbQ5RcyNLdXlkQ/formResponse (Caused by ProxyError('Unable to connect to proxy', ConnectTimeoutError(<urllib3.connection.HTTPSConnection object at 0x000001D126391A60>, 'Connection to 104.154.143.77 timed out. (connect timeout=None)')))\n",
      "[!] HTTPSConnectionPool(host='docs.google.com', port=443): Max retries exceeded with url: /forms/u/0/d/e/1FAIpQLSca_ae9bJROjrZ8ts8n6lu_r1IhV4LmDF_gSbQ5RcyNLdXlkQ/formResponse (Caused by ProxyError('Unable to connect to proxy', ConnectTimeoutError(<urllib3.connection.HTTPSConnection object at 0x000001D1263A8E00>, 'Connection to 192.41.13.71 timed out. (connect timeout=None)')))\n",
      "[!] HTTPSConnectionPool(host='docs.google.com', port=443): Max retries exceeded with url: /forms/u/0/d/e/1FAIpQLSca_ae9bJROjrZ8ts8n6lu_r1IhV4LmDF_gSbQ5RcyNLdXlkQ/formResponse (Caused by ProxyError('Unable to connect to proxy', ConnectTimeoutError(<urllib3.connection.HTTPSConnection object at 0x000001D126391EB0>, 'Connection to 192.41.71.204 timed out. (connect timeout=None)')))\n",
      "[!] HTTPSConnectionPool(host='docs.google.com', port=443): Max retries exceeded with url: /forms/u/0/d/e/1FAIpQLSca_ae9bJROjrZ8ts8n6lu_r1IhV4LmDF_gSbQ5RcyNLdXlkQ/formResponse (Caused by ProxyError('Unable to connect to proxy', ConnectTimeoutError(<urllib3.connection.HTTPSConnection object at 0x000001D1263A9A00>, 'Connection to 192.41.13.71 timed out. (connect timeout=None)')))\n",
      "[!] HTTPSConnectionPool(host='docs.google.com', port=443): Max retries exceeded with url: /forms/u/0/d/e/1FAIpQLSca_ae9bJROjrZ8ts8n6lu_r1IhV4LmDF_gSbQ5RcyNLdXlkQ/formResponse (Caused by ProxyError('Unable to connect to proxy', ConnectTimeoutError(<urllib3.connection.HTTPSConnection object at 0x000001D126610800>, 'Connection to 192.41.13.71 timed out. (connect timeout=None)')))\n",
      "[!] HTTPSConnectionPool(host='docs.google.com', port=443): Max retries exceeded with url: /forms/u/0/d/e/1FAIpQLSca_ae9bJROjrZ8ts8n6lu_r1IhV4LmDF_gSbQ5RcyNLdXlkQ/formResponse (Caused by ProxyError('Unable to connect to proxy', ConnectTimeoutError(<urllib3.connection.HTTPSConnection object at 0x000001D1263A9DF0>, 'Connection to 192.41.71.204 timed out. (connect timeout=None)')))\n",
      "[!] HTTPSConnectionPool(host='docs.google.com', port=443): Max retries exceeded with url: /forms/u/0/d/e/1FAIpQLSca_ae9bJROjrZ8ts8n6lu_r1IhV4LmDF_gSbQ5RcyNLdXlkQ/formResponse (Caused by ProxyError('Unable to connect to proxy', ConnectTimeoutError(<urllib3.connection.HTTPSConnection object at 0x000001D1263A8AA0>, 'Connection to 104.154.143.77 timed out. (connect timeout=None)')))\n",
      "[!] HTTPSConnectionPool(host='docs.google.com', port=443): Max retries exceeded with url: /forms/u/0/d/e/1FAIpQLSca_ae9bJROjrZ8ts8n6lu_r1IhV4LmDF_gSbQ5RcyNLdXlkQ/formResponse (Caused by ProxyError('Unable to connect to proxy', ConnectTimeoutError(<urllib3.connection.HTTPSConnection object at 0x000001D1266114C0>, 'Connection to 104.154.143.77 timed out. (connect timeout=None)')))\n",
      "[!] HTTPSConnectionPool(host='docs.google.com', port=443): Max retries exceeded with url: /forms/u/0/d/e/1FAIpQLSca_ae9bJROjrZ8ts8n6lu_r1IhV4LmDF_gSbQ5RcyNLdXlkQ/formResponse (Caused by ProxyError('Unable to connect to proxy', ConnectTimeoutError(<urllib3.connection.HTTPSConnection object at 0x000001D1263AAA20>, 'Connection to 192.41.13.71 timed out. (connect timeout=None)')))\n",
      "[!] HTTPSConnectionPool(host='docs.google.com', port=443): Max retries exceeded with url: /forms/u/0/d/e/1FAIpQLSca_ae9bJROjrZ8ts8n6lu_r1IhV4LmDF_gSbQ5RcyNLdXlkQ/formResponse (Caused by ProxyError('Unable to connect to proxy', ConnectTimeoutError(<urllib3.connection.HTTPSConnection object at 0x000001D1266118E0>, 'Connection to 104.154.143.77 timed out. (connect timeout=None)')))\n",
      "[!] HTTPSConnectionPool(host='docs.google.com', port=443): Max retries exceeded with url: /forms/u/0/d/e/1FAIpQLSca_ae9bJROjrZ8ts8n6lu_r1IhV4LmDF_gSbQ5RcyNLdXlkQ/formResponse (Caused by ProxyError('Unable to connect to proxy', ConnectTimeoutError(<urllib3.connection.HTTPSConnection object at 0x000001D126612CC0>, 'Connection to 104.154.143.77 timed out. (connect timeout=None)')))\n",
      "[!] HTTPSConnectionPool(host='docs.google.com', port=443): Max retries exceeded with url: /forms/u/0/d/e/1FAIpQLSca_ae9bJROjrZ8ts8n6lu_r1IhV4LmDF_gSbQ5RcyNLdXlkQ/formResponse (Caused by ProxyError('Unable to connect to proxy', ConnectTimeoutError(<urllib3.connection.HTTPSConnection object at 0x000001D1263ABAD0>, 'Connection to 192.41.71.204 timed out. (connect timeout=None)')))\n",
      "[!] HTTPSConnectionPool(host='docs.google.com', port=443): Max retries exceeded with url: /forms/u/0/d/e/1FAIpQLSca_ae9bJROjrZ8ts8n6lu_r1IhV4LmDF_gSbQ5RcyNLdXlkQ/formResponse (Caused by ProxyError('Unable to connect to proxy', ConnectTimeoutError(<urllib3.connection.HTTPSConnection object at 0x000001D126613AD0>, 'Connection to 192.41.71.204 timed out. (connect timeout=None)')))\n",
      "[!] HTTPSConnectionPool(host='docs.google.com', port=443): Max retries exceeded with url: /forms/u/0/d/e/1FAIpQLSca_ae9bJROjrZ8ts8n6lu_r1IhV4LmDF_gSbQ5RcyNLdXlkQ/formResponse (Caused by ProxyError('Unable to connect to proxy', ConnectTimeoutError(<urllib3.connection.HTTPSConnection object at 0x000001D126631790>, 'Connection to 192.41.13.71 timed out. (connect timeout=None)')))\n",
      "[!] HTTPSConnectionPool(host='docs.google.com', port=443): Max retries exceeded with url: /forms/u/0/d/e/1FAIpQLSca_ae9bJROjrZ8ts8n6lu_r1IhV4LmDF_gSbQ5RcyNLdXlkQ/formResponse (Caused by ProxyError('Unable to connect to proxy', ConnectTimeoutError(<urllib3.connection.HTTPSConnection object at 0x000001D126630710>, 'Connection to 104.154.143.77 timed out. (connect timeout=None)')))\n",
      "[!] HTTPSConnectionPool(host='docs.google.com', port=443): Max retries exceeded with url: /forms/u/0/d/e/1FAIpQLSca_ae9bJROjrZ8ts8n6lu_r1IhV4LmDF_gSbQ5RcyNLdXlkQ/formResponse (Caused by ProxyError('Unable to connect to proxy', ConnectTimeoutError(<urllib3.connection.HTTPSConnection object at 0x000001D126632390>, 'Connection to 104.154.143.77 timed out. (connect timeout=None)')))\n",
      "[!] HTTPSConnectionPool(host='docs.google.com', port=443): Max retries exceeded with url: /forms/u/0/d/e/1FAIpQLSca_ae9bJROjrZ8ts8n6lu_r1IhV4LmDF_gSbQ5RcyNLdXlkQ/formResponse (Caused by ProxyError('Unable to connect to proxy', ConnectTimeoutError(<urllib3.connection.HTTPSConnection object at 0x000001D1266490A0>, 'Connection to 104.154.143.77 timed out. (connect timeout=None)')))\n",
      "[!] HTTPSConnectionPool(host='docs.google.com', port=443): Max retries exceeded with url: /forms/u/0/d/e/1FAIpQLSca_ae9bJROjrZ8ts8n6lu_r1IhV4LmDF_gSbQ5RcyNLdXlkQ/formResponse (Caused by ProxyError('Unable to connect to proxy', ConnectTimeoutError(<urllib3.connection.HTTPSConnection object at 0x000001D12664A4E0>, 'Connection to 192.41.71.204 timed out. (connect timeout=None)')))\n",
      "[!] HTTPSConnectionPool(host='docs.google.com', port=443): Max retries exceeded with url: /forms/u/0/d/e/1FAIpQLSca_ae9bJROjrZ8ts8n6lu_r1IhV4LmDF_gSbQ5RcyNLdXlkQ/formResponse (Caused by ProxyError('Unable to connect to proxy', ConnectTimeoutError(<urllib3.connection.HTTPSConnection object at 0x000001D126632FC0>, 'Connection to 104.154.143.77 timed out. (connect timeout=None)')))\n",
      "[!] HTTPSConnectionPool(host='docs.google.com', port=443): Max retries exceeded with url: /forms/u/0/d/e/1FAIpQLSca_ae9bJROjrZ8ts8n6lu_r1IhV4LmDF_gSbQ5RcyNLdXlkQ/formResponse (Caused by ProxyError('Unable to connect to proxy', ConnectTimeoutError(<urllib3.connection.HTTPSConnection object at 0x000001D12664B230>, 'Connection to 144.217.101.242 timed out. (connect timeout=None)')))\n",
      "[!] HTTPSConnectionPool(host='docs.google.com', port=443): Max retries exceeded with url: /forms/u/0/d/e/1FAIpQLSca_ae9bJROjrZ8ts8n6lu_r1IhV4LmDF_gSbQ5RcyNLdXlkQ/formResponse (Caused by ProxyError('Unable to connect to proxy', ConnectTimeoutError(<urllib3.connection.HTTPSConnection object at 0x000001D126666450>, 'Connection to 144.217.101.242 timed out. (connect timeout=None)')))\n",
      "[!] HTTPSConnectionPool(host='docs.google.com', port=443): Max retries exceeded with url: /forms/u/0/d/e/1FAIpQLSca_ae9bJROjrZ8ts8n6lu_r1IhV4LmDF_gSbQ5RcyNLdXlkQ/formResponse (Caused by ProxyError('Unable to connect to proxy', ConnectTimeoutError(<urllib3.connection.HTTPSConnection object at 0x000001D126632D50>, 'Connection to 192.41.71.204 timed out. (connect timeout=None)')))\n",
      "[!] HTTPSConnectionPool(host='docs.google.com', port=443): Max retries exceeded with url: /forms/u/0/d/e/1FAIpQLSca_ae9bJROjrZ8ts8n6lu_r1IhV4LmDF_gSbQ5RcyNLdXlkQ/formResponse (Caused by ProxyError('Unable to connect to proxy', ConnectTimeoutError(<urllib3.connection.HTTPSConnection object at 0x000001D126649D90>, 'Connection to 104.154.143.77 timed out. (connect timeout=None)')))\n",
      "[!] HTTPSConnectionPool(host='docs.google.com', port=443): Max retries exceeded with url: /forms/u/0/d/e/1FAIpQLSca_ae9bJROjrZ8ts8n6lu_r1IhV4LmDF_gSbQ5RcyNLdXlkQ/formResponse (Caused by ProxyError('Unable to connect to proxy', ConnectTimeoutError(<urllib3.connection.HTTPSConnection object at 0x000001D126665250>, 'Connection to 104.154.143.77 timed out. (connect timeout=None)')))\n",
      "[!] HTTPSConnectionPool(host='docs.google.com', port=443): Max retries exceeded with url: /forms/u/0/d/e/1FAIpQLSca_ae9bJROjrZ8ts8n6lu_r1IhV4LmDF_gSbQ5RcyNLdXlkQ/formResponse (Caused by ProxyError('Unable to connect to proxy', ConnectTimeoutError(<urllib3.connection.HTTPSConnection object at 0x000001D126665970>, 'Connection to 192.41.13.71 timed out. (connect timeout=None)')))\n",
      "[!] HTTPSConnectionPool(host='docs.google.com', port=443): Max retries exceeded with url: /forms/u/0/d/e/1FAIpQLSca_ae9bJROjrZ8ts8n6lu_r1IhV4LmDF_gSbQ5RcyNLdXlkQ/formResponse (Caused by ProxyError('Unable to connect to proxy', ConnectTimeoutError(<urllib3.connection.HTTPSConnection object at 0x000001D1266647A0>, 'Connection to 104.154.143.77 timed out. (connect timeout=None)')))\n",
      "[!] HTTPSConnectionPool(host='docs.google.com', port=443): Max retries exceeded with url: /forms/u/0/d/e/1FAIpQLSca_ae9bJROjrZ8ts8n6lu_r1IhV4LmDF_gSbQ5RcyNLdXlkQ/formResponse (Caused by ProxyError('Unable to connect to proxy', ConnectTimeoutError(<urllib3.connection.HTTPSConnection object at 0x000001D126666C00>, 'Connection to 192.41.13.71 timed out. (connect timeout=None)')))\n",
      "[!] HTTPSConnectionPool(host='docs.google.com', port=443): Max retries exceeded with url: /forms/u/0/d/e/1FAIpQLSca_ae9bJROjrZ8ts8n6lu_r1IhV4LmDF_gSbQ5RcyNLdXlkQ/formResponse (Caused by ProxyError('Unable to connect to proxy', ConnectTimeoutError(<urllib3.connection.HTTPSConnection object at 0x000001D126EB6F90>, 'Connection to 192.41.13.71 timed out. (connect timeout=None)')))\n",
      "[!] HTTPSConnectionPool(host='docs.google.com', port=443): Max retries exceeded with url: /forms/u/0/d/e/1FAIpQLSca_ae9bJROjrZ8ts8n6lu_r1IhV4LmDF_gSbQ5RcyNLdXlkQ/formResponse (Caused by ProxyError('Unable to connect to proxy', ConnectTimeoutError(<urllib3.connection.HTTPSConnection object at 0x000001D126A83CE0>, 'Connection to 192.41.13.71 timed out. (connect timeout=None)')))\n",
      "[!] HTTPSConnectionPool(host='docs.google.com', port=443): Max retries exceeded with url: /forms/u/0/d/e/1FAIpQLSca_ae9bJROjrZ8ts8n6lu_r1IhV4LmDF_gSbQ5RcyNLdXlkQ/formResponse (Caused by ProxyError('Unable to connect to proxy', ConnectTimeoutError(<urllib3.connection.HTTPSConnection object at 0x000001D127459F40>, 'Connection to 144.217.101.242 timed out. (connect timeout=None)')))\n"
     ]
    }
   ],
   "source": [
    "# internal imports\n",
    "import time\n",
    "import random\n",
    "from concurrent.futures import ThreadPoolExecutor, as_completed\n",
    "\n",
    "# external imports\n",
    "import requests\n",
    "\n",
    "\n",
    "\"\"\"\n",
    "Change 4 Fields (Compulspory) | 3 Fields are optional | Sample Video on where and how to find them is available in Readme.\n",
    "\n",
    "URL: your form url # URL must be response URL, sample is provided\n",
    "REFERER: Take by Filling a response\n",
    "COOKIE: Take by filling a response\n",
    "DATA: Fill a form and find it :)\n",
    "\n",
    "PROXYS: You can provide proxies also.\n",
    "MAX_WORKERS: Change this value to increase the speed of spam. Don't go beyond 500.\n",
    "SPAM_COUNT: Change this to increase spam count\n",
    "\"\"\"\n",
    "\n",
    "MAX_WORKERS = 63 # Change this value to increase the speed of spam. Don't go beyond 500.\n",
    "SPAM_COUNT = 100000 # Change this to increase spam count\n",
    "\n",
    "URL = 'https://docs.google.com/forms/u/0/d/e/1FAIpQLSca_ae9bJROjrZ8ts8n6lu_r1IhV4LmDF_gSbQ5RcyNLdXlkQ/formResponse'\n",
    "\n",
    "DATA = 'entry.44468114=Yes&dlut=1730002512969&entry.44468114_sentinel=&fvv=1&partialResponse=%5Bnull%2Cnull%2C%22-7116129786931696408%22%5D&pageHistory=0&fbzx=-7116129786931696408&submissionTimestamp=1730002528218'\n",
    "\n",
    "REFERER = 'https://docs.google.com/forms/d/e/1FAIpQLSfoemQg90qTmA4ps9yh-YU46_9xDcMzBILr-wSnPpyXVr9BLA/viewform?fbzx=4688203165610129769'\n",
    "\n",
    "COOKIE = 'S=spreadsheet_forms=UKaRALcxYvg5rkiIe8TZKCdxqda4bQ6Q4LLtVKP5r0w; COMPASS=spreadsheet_forms=CjIACWuJV7-aD5ALoM3Wc9TZSXIv9k-eI0fjrGcdGcZVSZ-dP69mdu_6FN1nFALoPG4ALBDHjve4Bho0AAlriVdjnuDtBTILvHl-Aq4M_xmYm4c-f7jO3TIOgcRdP1ZctrnW9UcZPrfx3WPVOMkM8A==; SID=g.a000owjsrYzdFce7XDmRIUBm22-A9LNIQ3fPlq_6ehYoJfxWfqnSeMul4s9JgZEMK1SkruECdQACgYKAeoSARcSFQHGX2Miy0SeH8nz_BNp4ziI3fkgRxoVAUF8yKri8mxKlLthsUVXQIL7eA0u0076; __Secure-1PSID=g.a000owjsrYzdFce7XDmRIUBm22-A9LNIQ3fPlq_6ehYoJfxWfqnSYvPfIWKbHROuEOMkn04s5QACgYKAWISARcSFQHGX2MiBdUJSJdt2LqFRyrmjQsPzRoVAUF8yKqeHzofuG-fxBQ8eNPbzCHS0076; __Secure-3PSID=g.a000owjsrYzdFce7XDmRIUBm22-A9LNIQ3fPlq_6ehYoJfxWfqnS8aOJQHOtiRJtH74mX57R6AACgYKAfASARcSFQHGX2MiyowDhbcRshrH63-yEumaLhoVAUF8yKpw3UAPmUirYUjm7D_4yWwE0076; HSID=A0_b2xH8aesSpa0gf; SSID=A6QYYGnV1eaBAjFg-; APISID=aqNLRW6CDUIPF1OC/AK5MJ5fyzUUysTze9; __Secure-1PAPISID=mqqQje4yLvcV-uZA/Au2qF14IwiT4RacTz; SAPISID=mqqQje4yLvcV-uZA/Au2qF14IwiT4RacTz; __Secure-3PAPISID=mqqQje4yLvcV-uZA/Au2qF14IwiT4RacTz; S=billing-ui-v3=s4yMoaumygYymwqnYSOx8YIeB9nF0OlY:billing-ui-v3-efe=s4yMoaumygYymwqnYSOx8YIeB9nF0OlY; COMPASS=appsfrontendserver=CgAQ77nduAYafQAJa4lXrER9lnBlNhqEC7P2i4jwKvrvC7AbsMUkf1nPBiNYrp2sAcltp8tZOAQ-BmSh3Q_TKeI32h9pmVgmhpiz7w-1ySXRDAGGmPpiw4m4ycBY4LKcBQGejzK5amVg0m67jU5xf9OcWgbtEgDFVFG8k0-qZiOhKzbkVxZcIAEwAQ; SEARCH_SAMESITE=CgQIs5wB; AEC=AVYB7cp588NDpbkgTzm9Ml_39t_ZTCn6kwYIubaCWv6WkpL89L4SEr8Lnvk; NID=518=YNlmFqqRynNaD91GruIpA7-R9MIs_36TFhQ3RmH-Fec7f3TEPyH9RG0cw1Kq7PszzYSFSjPodHQqqodvwjRQpmJafzfl9sXgc9kftaC8EHWjWHF8raLX9jRE83ZYZ07zqozfOE9WpufdcAfL1_3J-JxSdqmXfnMilRa90vsKmfqacqATvyVXfZzQ5WqMxM8GqeB5Fpe54vY_AH5WHR77oZYTvtJlMpYu9XX2mA0Lmcxj-XGR83nTXJigmKP3cFsQV2Jg-CCwahOwpGHPaTZpaj1eAFGaJXh4-auD-cVa9a0ipMO6FCRDMVGOpWUWUGJ5feZHowt6ixykTBPOmASSwVNGUOyHAzfVHK-xhmeOB409X7-QhAoDLKVGkvT_aAR9TyooKlffnNqOWH_d89Cht9fJBOFe-kx41324N9-PU7mPC-aNoHrJ0P6Fm_X-XpvGr_mh2wDva9HRkeAcLp_qtyY8SGHUwfC_KVvOPkWHvYZpc5k_GuSE1GPKXK-K7a5f5EZvuRI; OSID=g.a000pgjsrarEU4lEX0pkKjkKRGzZGtuIBdImouFceZksCZWtMgU_L-6AjXQZ7H4FEaRnwxRcHwACgYKAXMSARcSFQHGX2MiXiIc6HalyAG4KUAi3PCTYRoVAUF8yKpvNcuaPMLPkOpXs_aMKJbP0076; __Secure-OSID=g.a000pgjsrarEU4lEX0pkKjkKRGzZGtuIBdImouFceZksCZWtMgU_kQe4z0dwz-xgc74KLjngKwACgYKARMSARcSFQHGX2Mi9KhCteFshed_nOuWE5yveRoVAUF8yKoNqbsWNe38dgEEJBtToOF20076; __Secure-1PSIDTS=sidts-CjEBQT4rX7Ffc7-HbcUqTnqqclUC1-0cUF9tG0T4m91Ej2sr9St7lWP3QuIh263wLG3cEAA; __Secure-3PSIDTS=sidts-CjEBQT4rX7Ffc7-HbcUqTnqqclUC1-0cUF9tG0T4m91Ej2sr9St7lWP3QuIh263wLG3cEAA; GOOGLE_ABUSE_EXEMPTION=ID=6c89e125cb3e7afe:TM=1730002501:C=r:IP=2600:1700:7c00:1e30:902a:e36f:10a6:bf2b-:S=7a6cxKwVlkiB-2929Rm9VZM; SIDCC=AKEyXzV7adM53nSnAvZdy1KSPWrH3PT-Ie6S9MxqHwPpQnyvG-rDrRm1bksoMF-SoXAZD8pQ31w; __Secure-1PSIDCC=AKEyXzXorNY2Ts_IeNXhR7xAjf_sGTTFl9xandvzVQcMVkVOzFaozd_5wNCHHFa1AycPlN55KRs; __Secure-3PSIDCC=AKEyXzXxyLQ9WKNk3TTiEuUFJB4UAFLCIF1yYNUdGoPHnOWFYf0Vxyy-XZdKZVXuXNot7rCQl334'\n",
    "\n",
    "\n",
    "HEADER = {\n",
    "    'Host': 'docs.google.com',\n",
    "    'User-Agent': 'Mozilla/5.0 (Windows NT 10.0; Win64; x64; rv:76.0) Gecko/20100101 Firefox/76.0',\n",
    "    'Accept': 'text/html,application/xhtml+xml,application/xml;q=0.9,image/webp,*/*;q=0.8',\n",
    "    'Content-Type': 'application/x-www-form-urlencoded',\n",
    "    'Origin': 'https://docs.google.com',\n",
    "    'Referer': REFERER,\n",
    "    'Cookie': COOKIE,\n",
    "    'Upgrade-Insecure-Requests':'1'\n",
    "    }\n",
    "\n",
    "# After 4.8K+ requests google will ask you to fill a captcha if you are not using proxy.\n",
    "# PROXYS = ['144.217.101.242:3129', '192.41.71.204:3128', '192.41.13.71:3128', '104.154.143.77:3128']\n",
    "\n",
    "\n",
    "\n",
    "\n",
    "def trouble():\n",
    "    try:\n",
    "        if len(PROXYS) > 0: # Proxies are passed\n",
    "            proxy = PROXYS[random.choice([x for x in range(len(PROXYS))])]\n",
    "            r = requests.post(URL, proxies={'http':proxy, 'https':proxy}, data=DATA, headers=HEADER)\n",
    "        else:\n",
    "            r = requests.post(URL, data=DATA, headers=HEADER)\n",
    "        return r\n",
    "    except Exception as e:\n",
    "        raise Exception (e)\n",
    "\n",
    "\n",
    "if __name__ == \"__main__\":\n",
    "\n",
    "    with ThreadPoolExecutor(max_workers=MAX_WORKERS) as executor:\n",
    "        future_calls = {executor.submit(trouble): count for count in range(SPAM_COUNT)}\n",
    "\n",
    "        for future in as_completed(future_calls):\n",
    "            try:\n",
    "                result = future.result()\n",
    "                print('[-] {}'.format(result.status_code))\n",
    "            except Exception as e:\n",
    "                print('[!] {}'.format(e))"
   ]
  }
 ],
 "metadata": {
  "kernelspec": {
   "display_name": ".venv",
   "language": "python",
   "name": "python3"
  },
  "language_info": {
   "codemirror_mode": {
    "name": "ipython",
    "version": 3
   },
   "file_extension": ".py",
   "mimetype": "text/x-python",
   "name": "python",
   "nbconvert_exporter": "python",
   "pygments_lexer": "ipython3",
   "version": "3.12.5"
  }
 },
 "nbformat": 4,
 "nbformat_minor": 2
}
