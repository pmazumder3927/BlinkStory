{
 "cells": [
  {
   "cell_type": "code",
   "execution_count": 19,
   "metadata": {},
   "outputs": [],
   "source": [
    "\n",
    "lyrics = \"\"\"\n",
    "In a galaxy so vast, where the eyeballs roam,\n",
    "Cars race through the stars, finding their home,\n",
    "Trains on cosmic tracks, in the silence of space,\n",
    "Guns fire at the orbiting eyes, in an endless chase.\n",
    "\n",
    "(Chorus)\n",
    "*Zoom*, *Bang*, the chaos ignites,\n",
    "Floating through the cosmos, under endless nights,\n",
    "Crazy dreams, where visions fly,\n",
    "Through the eye of a storm, in the space-born sky.\n",
    "\n",
    "(Verse 2)\n",
    "Sprawling scenes with metal and light,\n",
    "Eyeballs gaze in wonder, a surreal sight,\n",
    "Engines roar with a cosmic tune,\n",
    "Traveling the dreams of the silver moon.\n",
    "\n",
    "(Bridge)\n",
    "Craziness in circles, a neon swirl,\n",
    "Through the binoculars of this wild new world,\n",
    "Floating, drifting, with eyes wide and bold,\n",
    "In the space between whispers, stories unfold.\n",
    "\n",
    "(Chorus)\n",
    "*Zoom*, *Bang*, the chaos ignites,\n",
    "Floating through the cosmos, under endless nights,\n",
    "Crazy dreams, where visions fly,\n",
    "Through the eye of a storm, in the space-born sky.\n",
    "\n",
    "Visual Theme: A surrealist, animated, dreamlike vision where the viewer is plunged into a sprawling cosmic scene. Cars and trains travel along ethereal tracks through vast starry expanses, accompanied by the whimsical yet slightly unsettling sight of eyeballs floating through space. The music video is painted in vibrant, shifting colors that flicker and pulse in tune with the electric beats. Guns announce their presence with flashes of neon as they engage the floating eyes in a strange, chaotic ballet. The theme of the song echoes the chaotic beauty of dreams—unexpected, vivid, and boundless in imagination, inviting the viewer to embrace the wonder of the unconventionally surreal.\n",
    "\"\"\"\n"
   ]
  },
  {
   "cell_type": "code",
   "execution_count": 38,
   "metadata": {},
   "outputs": [],
   "source": [
    "from moviepy.editor import VideoFileClip, concatenate_videoclips, AudioFileClip\n",
    "from moviepy.video.fx.loop import loop\n",
    "import ffmpeg\n",
    "import asyncio\n",
    "import time\n",
    "import os\n",
    "\n",
    "async def merge_videos_and_song_with_subtitles(srt_path):\n",
    "    # Step 1: Download song and videos\n",
    "    # async with ClientSession() as session:\n",
    "    #     song_path = await download_file(session, song_url, 'song.mp3')\n",
    "    #     video_paths = []\n",
    "    #     for i, video_url in enumerate(video_urls):\n",
    "    #         video_path = await download_file(session, video_url, f'video_{i+1}.mp4')\n",
    "    #         video_paths.append(video_path)\n",
    "\n",
    "    song_path = './song.mp3'\n",
    "    video_paths = [f'./video_{i+1}.mp4' for i in range(2)]\n",
    "\n",
    "    # Step 2: Load videos using MoviePy\n",
    "    video_clips = [VideoFileClip(video) for video in video_paths]\n",
    "    \n",
    "    # Step 3: Concatenate and loop the videos until they match the song duration\n",
    "    concatenated_clip = concatenate_videoclips(video_clips)\n",
    "\n",
    "    song_audio = AudioFileClip(song_path)\n",
    "    song_duration = song_audio.duration\n",
    "    final_video_clip = loop(concatenated_clip, duration=song_duration)\n",
    "    final_video_clip = final_video_clip.set_audio(song_audio)\n",
    "\n",
    "    # Step 4: Add subtitles using ffmpeg (MoviePy)\n",
    "    # MoviePy uses ffmpeg to overlay the subtitles without ImageMagick.\n",
    "    final_video_with_subtitles = final_video_clip.subclip(0, song_duration).set_duration(song_duration).set_audio(song_audio)\n",
    "\n",
    "    # Step 5: Write the output to a file\n",
    "    output_path = f\"final_output_with_subtitles_{time.time()}.mp4\"\n",
    "    final_video_with_subtitles.write_videofile(output_path, codec='libx265', audio_codec='aac', ffmpeg_params=['-vf', f\"subtitles={srt_path}\"])\n",
    "\n",
    "    # Step 6: Clean up temporary files\n",
    "    song_audio.close()\n",
    "    final_video_clip.close()\n",
    "    concatenated_clip.close()\n",
    "    final_video_with_subtitles.close()\n",
    "    for video in video_clips:\n",
    "        video.close()\n",
    "    \n",
    "    return output_path"
   ]
  },
  {
   "cell_type": "code",
   "execution_count": 39,
   "metadata": {},
   "outputs": [
    {
     "name": "stdout",
     "output_type": "stream",
     "text": [
      "Moviepy - Building video final_output_with_subtitles_1729430425.2236214.mp4.\n",
      "MoviePy - Writing audio in final_output_with_subtitles_1729430425.2236214TEMP_MPY_wvf_snd.mp4\n"
     ]
    },
    {
     "name": "stderr",
     "output_type": "stream",
     "text": [
      "                                                                      \r"
     ]
    },
    {
     "name": "stdout",
     "output_type": "stream",
     "text": [
      "MoviePy - Done.\n",
      "Moviepy - Writing video final_output_with_subtitles_1729430425.2236214.mp4\n",
      "\n"
     ]
    },
    {
     "name": "stderr",
     "output_type": "stream",
     "text": [
      "                                                                \r"
     ]
    },
    {
     "name": "stdout",
     "output_type": "stream",
     "text": [
      "Moviepy - Done !\n",
      "Moviepy - video ready final_output_with_subtitles_1729430425.2236214.mp4\n"
     ]
    },
    {
     "data": {
      "text/plain": [
       "'final_output_with_subtitles_1729430425.2236214.mp4'"
      ]
     },
     "execution_count": 39,
     "metadata": {},
     "output_type": "execute_result"
    }
   ],
   "source": [
    "await merge_videos_and_song_with_subtitles('./output.ass')\n"
   ]
  },
  {
   "cell_type": "code",
   "execution_count": 16,
   "metadata": {},
   "outputs": [],
   "source": [
    "import stable_whisper"
   ]
  },
  {
   "cell_type": "code",
   "execution_count": 17,
   "metadata": {},
   "outputs": [
    {
     "name": "stderr",
     "output_type": "stream",
     "text": [
      "c:\\Users\\pmazu\\Documents\\GitHub\\BlinkStory\\.venv\\Lib\\site-packages\\whisper\\__init__.py:150: FutureWarning: You are using `torch.load` with `weights_only=False` (the current default value), which uses the default pickle module implicitly. It is possible to construct malicious pickle data which will execute arbitrary code during unpickling (See https://github.com/pytorch/pytorch/blob/main/SECURITY.md#untrusted-models for more details). In a future release, the default value for `weights_only` will be flipped to `True`. This limits the functions that could be executed during unpickling. Arbitrary objects will no longer be allowed to be loaded via this mode unless they are explicitly allowlisted by the user via `torch.serialization.add_safe_globals`. We recommend you start setting `weights_only=True` for any use case where you don't have full control of the loaded file. Please open an issue on GitHub for any issues related to this experimental feature.\n",
      "  checkpoint = torch.load(fp, map_location=device)\n"
     ]
    }
   ],
   "source": [
    "model = stable_whisper.load_model(\"base\")"
   ]
  },
  {
   "cell_type": "code",
   "execution_count": 20,
   "metadata": {},
   "outputs": [],
   "source": [
    "# remove everything in brackets of any sory from lyrics\n",
    "import re\n",
    "lyrics = re.sub(r'\\[.*?\\]|\\(.*?\\)', '', lyrics)\n"
   ]
  },
  {
   "cell_type": "code",
   "execution_count": 35,
   "metadata": {},
   "outputs": [
    {
     "name": "stderr",
     "output_type": "stream",
     "text": [
      "Align: 100%|██████████| 169.63/169.63 [00:01<00:00, 122.90sec/s]\n",
      "Adjustment: 100%|██████████| 147.92/147.92 [00:00<00:00, 49278.91sec/s]\n"
     ]
    }
   ],
   "source": [
    "result = model.align('./song.mp3', lyrics, language='en', fast_mode=True)\n"
   ]
  },
  {
   "cell_type": "code",
   "execution_count": 36,
   "metadata": {},
   "outputs": [
    {
     "name": "stdout",
     "output_type": "stream",
     "text": [
      "[12.10 -> 14.26]  In a galaxy so vast,\n",
      "[14.50 -> 15.88]  where the eyeballs roam,\n",
      "[18.86 -> 20.96]  Cars race through the stars,\n",
      "[21.34 -> 23.00]  finding their home,\n",
      "[26.02 -> 28.14]  Trains on cosmic tracks,\n",
      "[29.02 -> 31.08]  in the silence of space,\n",
      "[31.08 -> 35.62]  Guns fire at the orbiting eyes,\n",
      "[35.62 -> 37.64]  in an endless chase.\n",
      "[37.64 -> 40.00]    *Zoom*,\n",
      "[40.00 -> 43.60]  *Bang*, the chaos ignites, Floating through the cosmos,\n",
      "[43.60 -> 50.28]  under endless nights, Crazy dreams, where visions fly, Through the eye of a storm,\n",
      "[50.28 -> 53.22]  in the space-born sky.\n",
      "[59.32 -> 61.70]    Sprawling scenes with metal and light,\n",
      "[61.70 -> 63.38]  Eyeballs gaze in wonder,\n",
      "[63.38 -> 68.64]  a surreal sight, Engines roar with a cosmic tune,\n",
      "[68.64 -> 71.36]  Traveling the dreams of the silver moon.\n",
      "[71.84 -> 73.08]    Craziness in circles,\n",
      "[73.52 -> 74.32]  a neon swirl,\n",
      "[74.62 -> 78.04]  Through the binoculars of this wild new world,\n",
      "[78.40 -> 80.90]  Floating, drifting, with eyes wide and bold,\n",
      "[81.32 -> 82.80]  In the space between whispers,\n",
      "[83.20 -> 84.32]  stories unfold.\n",
      "[85.08 -> 87.74]    *Zoom*, *Bang*, the chaos ignites,\n",
      "[88.14 -> 89.32]  Floating through the cosmos,\n",
      "[89.58 -> 95.78]  under endless nights, Crazy dreams, where visions fly, Through the eye of a storm,\n",
      "[95.80 -> 97.58]  in the space-born sky.\n",
      "[98.48 -> 99.02]   Visual Theme:\n",
      "[99.62 -> 100.64]  A surrealist, animated,\n",
      "[101.16 -> 104.72]  dreamlike vision where the viewer is plunged into a sprawling cosmic scene.\n",
      "[105.26 -> 109.54]  Cars and trains travel along ethereal tracks through vast starry expanses,\n",
      "[109.64 -> 114.40]  accompanied by the whimsical yet slightly unsettling sight of eyeballs floating through space.\n",
      "[114.96 -> 116.72]  The music video is painted in vibrant,\n",
      "[117.24 -> 120.56]  shifting colors that flicker and pulse in tune with the electric beats.\n",
      "[121.00 -> 126.48]  Guns announce their presence with flashes of neon as they engage the floating eyes in a strange, chaotic ballet.\n",
      "[127.16 -> 131.06]  The theme of the song echoes the chaotic beauty of dreams—unexpected,\n",
      "[131.50 -> 133.44]  vivid, and boundless in imagination,\n",
      "[133.90 -> 137.52]  inviting the viewer to embrace the wonder of the unconventionally surreal.\n",
      "[138.14 -> 138.94]  \n"
     ]
    }
   ],
   "source": [
    "for segment in result:\n",
    "    print(\"[%.2f -> %.2f] %s\" % (segment.start, segment.end, segment.text))\n",
    "\n"
   ]
  },
  {
   "cell_type": "code",
   "execution_count": 37,
   "metadata": {},
   "outputs": [
    {
     "name": "stdout",
     "output_type": "stream",
     "text": [
      "Saved: c:\\Users\\pmazu\\Documents\\GitHub\\BlinkStory\\output.ass\n"
     ]
    }
   ],
   "source": [
    "srt = result.to_ass('output.ass', karaoke=True)\n"
   ]
  }
 ],
 "metadata": {
  "kernelspec": {
   "display_name": ".venv",
   "language": "python",
   "name": "python3"
  },
  "language_info": {
   "codemirror_mode": {
    "name": "ipython",
    "version": 3
   },
   "file_extension": ".py",
   "mimetype": "text/x-python",
   "name": "python",
   "nbconvert_exporter": "python",
   "pygments_lexer": "ipython3",
   "version": "3.12.5"
  }
 },
 "nbformat": 4,
 "nbformat_minor": 2
}
