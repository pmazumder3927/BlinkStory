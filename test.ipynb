{
 "cells": [
  {
   "cell_type": "code",
   "execution_count": 44,
   "metadata": {},
   "outputs": [],
   "source": [
    "\n",
    "lyrics = r\"\"\"\n",
    "Lyrics: *(Whistles)*\n",
    "Once a sloth named Jett    \\\n",
    "In trees he swung, but aimed skyward he'd set\n",
    "Trained so hard, *through skies he flew*\n",
    "To the stars, his dreams came true\n",
    "\n",
    "He soared past planets, beyond the moon  \\\n",
    "Space sloth Jett, in a cosmic tune  \\\n",
    "Fighting threats across the stars  \\\n",
    "Saving galaxies near and far\n",
    "\n",
    "A hero’s cheer in the Lily Way night  \\\n",
    "Jett saved the day, with all his might  \\\n",
    "Up in the cosmos, where heroes play  \\\n",
    "Our sloth Jett leads the way\n",
    "\n",
    "*(Cosmic booms, cheers in the galaxy)*\n",
    "\"\"\"\n"
   ]
  },
  {
   "cell_type": "code",
   "execution_count": 55,
   "metadata": {},
   "outputs": [],
   "source": [
    "from moviepy.editor import VideoFileClip, concatenate_videoclips, AudioFileClip\n",
    "from moviepy.video.fx.loop import loop\n",
    "import ffmpeg\n",
    "import asyncio\n",
    "import time\n",
    "import os\n",
    "\n",
    "async def merge_videos_and_song_with_subtitles(srt_path):\n",
    "    # Step 1: Download song and videos\n",
    "    # async with ClientSession() as session:\n",
    "    #     song_path = await download_file(session, song_url, 'song.mp3')\n",
    "    #     video_paths = []\n",
    "    #     for i, video_url in enumerate(video_urls):\n",
    "    #         video_path = await download_file(session, video_url, f'video_{i+1}.mp4')\n",
    "    #         video_paths.append(video_path)\n",
    "\n",
    "    song_path = './song.mp3'\n",
    "    video_paths = [f'./video_{i+1}.mp4' for i in range(2)]\n",
    "\n",
    "    # Step 2: Load videos using MoviePy\n",
    "    video_clips = [VideoFileClip(video) for video in video_paths]\n",
    "    \n",
    "    # Step 3: Concatenate and loop the videos until they match the song duration\n",
    "    concatenated_clip = concatenate_videoclips(video_clips)\n",
    "\n",
    "    song_audio = AudioFileClip(song_path)\n",
    "    song_duration = song_audio.duration\n",
    "    final_video_clip = loop(concatenated_clip, duration=song_duration)\n",
    "    final_video_clip = final_video_clip.set_audio(song_audio)\n",
    "\n",
    "    # Step 4: Add subtitles using ffmpeg (MoviePy)\n",
    "    # MoviePy uses ffmpeg to overlay the subtitles without ImageMagick.\n",
    "    final_video_with_subtitles = final_video_clip.subclip(0, song_duration).set_duration(song_duration).set_audio(song_audio)\n",
    "\n",
    "    # Step 5: Write the output to a file\n",
    "    output_path = f\"final_output_with_subtitles_{time.time()}.mp4\"\n",
    "    final_video_with_subtitles.write_videofile(output_path, codec='libx265', audio_codec='aac', ffmpeg_params=['-vf', f\"subtitles={srt_path}\", '-preset', 'ultrafast'])\n",
    "\n",
    "    # Step 6: Clean up temporary files\n",
    "    song_audio.close()\n",
    "    final_video_clip.close()\n",
    "    concatenated_clip.close()\n",
    "    final_video_with_subtitles.close()\n",
    "    for video in video_clips:\n",
    "        video.close()\n",
    "    \n",
    "    return output_path"
   ]
  },
  {
   "cell_type": "code",
   "execution_count": 56,
   "metadata": {},
   "outputs": [
    {
     "name": "stdout",
     "output_type": "stream",
     "text": [
      "Moviepy - Building video final_output_with_subtitles_1729436848.9809334.mp4.\n",
      "MoviePy - Writing audio in final_output_with_subtitles_1729436848.9809334TEMP_MPY_wvf_snd.mp4\n"
     ]
    },
    {
     "name": "stderr",
     "output_type": "stream",
     "text": [
      "                                                                      \r"
     ]
    },
    {
     "name": "stdout",
     "output_type": "stream",
     "text": [
      "MoviePy - Done.\n",
      "Moviepy - Writing video final_output_with_subtitles_1729436848.9809334.mp4\n",
      "\n"
     ]
    },
    {
     "name": "stderr",
     "output_type": "stream",
     "text": [
      "                                                                 \r"
     ]
    },
    {
     "name": "stdout",
     "output_type": "stream",
     "text": [
      "Moviepy - Done !\n",
      "Moviepy - video ready final_output_with_subtitles_1729436848.9809334.mp4\n"
     ]
    },
    {
     "data": {
      "text/plain": [
       "'final_output_with_subtitles_1729436848.9809334.mp4'"
      ]
     },
     "execution_count": 56,
     "metadata": {},
     "output_type": "execute_result"
    }
   ],
   "source": [
    "await merge_videos_and_song_with_subtitles('./output.ass')\n"
   ]
  },
  {
   "cell_type": "code",
   "execution_count": 16,
   "metadata": {},
   "outputs": [],
   "source": [
    "import stable_whisper"
   ]
  },
  {
   "cell_type": "code",
   "execution_count": 48,
   "metadata": {},
   "outputs": [],
   "source": [
    "model = stable_whisper.load_model(\"base\")"
   ]
  },
  {
   "cell_type": "code",
   "execution_count": 49,
   "metadata": {},
   "outputs": [],
   "source": [
    "# remove everything in brackets of any sory from lyrics\n",
    "import re\n",
    "lyrics = re.sub(r'\\[.*?\\]|\\(.*?\\)', '', lyrics)\n"
   ]
  },
  {
   "cell_type": "code",
   "execution_count": 70,
   "metadata": {},
   "outputs": [
    {
     "name": "stderr",
     "output_type": "stream",
     "text": [
      "Align: 100%|██████████| 174.02/174.02 [00:00<00:00, 238.34sec/s]\n",
      "Adjustment: 100%|██████████| 89.52/89.52 [00:00<00:00, 44816.67sec/s]\n"
     ]
    }
   ],
   "source": [
    "result = model.align('./song.mp3', lyrics, language='en', fast_mode=True, regroup='cm_sp=,* /，/\\n/\\\\_sg=.5_sp=.* /。/?/？')\n"
   ]
  },
  {
   "cell_type": "code",
   "execution_count": 71,
   "metadata": {},
   "outputs": [
    {
     "name": "stdout",
     "output_type": "stream",
     "text": [
      "[9.62 -> 13.08]  Lyrics: ** Once a sloth named Jett\n",
      "[13.94 -> 13.96]     \\\n",
      "[13.96 -> 15.62]  In trees he swung,\n",
      "[15.82 -> 20.64]  but aimed skyward he'd set Trained so hard,\n",
      "[20.90 -> 25.70]  *through skies he flew* To the stars,\n",
      "[26.20 -> 28.06]  his dreams came true\n",
      "[29.78 -> 30.60]   He soared past planets,\n",
      "[31.58 -> 34.76]  beyond the moon  \\\n",
      "[34.76 -> 36.38]  Space sloth Jett,\n",
      "[36.38 -> 38.94]  in a cosmic tune  \\\n",
      "[38.94 -> 44.24]  Fighting threats across the stars  \\\n",
      "[44.24 -> 53.26]  Saving galaxies near and far  A hero’s cheer in the Lily Way night  \\\n",
      "[53.26 -> 54.18]  Jett saved the day,\n",
      "[54.32 -> 55.90]  with all his might  \\\n",
      "[55.90 -> 56.84]  Up in the cosmos,\n",
      "[56.84 -> 58.40]  where heroes play  \\\n",
      "[58.40 -> 64.62]  Our sloth Jett leads the way  ** \n"
     ]
    }
   ],
   "source": [
    "for segment in result:\n",
    "    print(\"[%.2f -> %.2f] %s\" % (segment.start, segment.end, segment.text))\n",
    "\n"
   ]
  },
  {
   "cell_type": "code",
   "execution_count": 54,
   "metadata": {},
   "outputs": [
    {
     "name": "stdout",
     "output_type": "stream",
     "text": [
      "Saved: c:\\Users\\pmazu\\Documents\\GitHub\\BlinkStory\\output.ass\n"
     ]
    }
   ],
   "source": [
    "srt = result.to_ass('output.ass', karaoke=True)\n"
   ]
  }
 ],
 "metadata": {
  "kernelspec": {
   "display_name": ".venv",
   "language": "python",
   "name": "python3"
  },
  "language_info": {
   "codemirror_mode": {
    "name": "ipython",
    "version": 3
   },
   "file_extension": ".py",
   "mimetype": "text/x-python",
   "name": "python",
   "nbconvert_exporter": "python",
   "pygments_lexer": "ipython3",
   "version": "3.12.5"
  }
 },
 "nbformat": 4,
 "nbformat_minor": 2
}
