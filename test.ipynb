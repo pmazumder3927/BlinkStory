{
 "cells": [
  {
   "cell_type": "code",
   "execution_count": 7,
   "metadata": {},
   "outputs": [],
   "source": [
    "\n",
    "lyrics = \"\"\"\n",
    "(Intro)\n",
    "Hey, it's KAYPramitO, light the room\n",
    "We're headed to Florida, in a Zoom\n",
    "\n",
    "(Verse 1)\n",
    "Pramit said, \"Where do you work? Oh, Wall Street Company!\"\n",
    "Everyone's talking, so much synergy\n",
    "Neon lights and city nights\n",
    "Deadlock season's the latest hype\n",
    "\n",
    "(Chorus)\n",
    "Let's go shower, flash and tower\n",
    "30 minutes to power, this is our hour\n",
    "Grab the orb, shower scene\n",
    "Cypher’s here, oh how we've been\n",
    "\n",
    "(Verse 2)\n",
    "Sova, Reyna, Phoenix too\n",
    "Headphones on backwards, what a view\n",
    "Jon says, \"Try not to die\"\n",
    "Lucy dings Phoenix, Naiyo in the sky\n",
    "\n",
    "(Chorus)\n",
    "Let's go shower, flash and tower\n",
    "30 minutes to power, this is our hour\n",
    "Pramit with the AWP, nothing sour\n",
    "Holding angles, gaming flower\n",
    "\n",
    "(Bridge)\n",
    "What’s that dog doing? Jimmy wants to know\n",
    "Reyna’s lurking, sneaky like a Poe\n",
    "Get in position, all set, let's roll\n",
    "Round and round, capture the soul\n",
    "\n",
    "(Outro)\n",
    "KAYPramitO, take us out\n",
    "In this game, we’re never in doubt\n",
    "Shower's clear, shine bright, no fear\n",
    "We play for fun, year after year\n",
    "\"\"\"\n"
   ]
  },
  {
   "cell_type": "code",
   "execution_count": 43,
   "metadata": {},
   "outputs": [],
   "source": [
    "from moviepy.editor import VideoFileClip, concatenate_videoclips, AudioFileClip\n",
    "from moviepy.video.fx.loop import loop\n",
    "import ffmpeg\n",
    "import asyncio\n",
    "import time\n",
    "import os\n",
    "\n",
    "async def merge_videos_and_song_with_subtitles(srt_path):\n",
    "    # Step 1: Download song and videos\n",
    "    # async with ClientSession() as session:\n",
    "    #     song_path = await download_file(session, song_url, 'song.mp3')\n",
    "    #     video_paths = []\n",
    "    #     for i, video_url in enumerate(video_urls):\n",
    "    #         video_path = await download_file(session, video_url, f'video_{i+1}.mp4')\n",
    "    #         video_paths.append(video_path)\n",
    "\n",
    "    song_path = './song.mp3'\n",
    "    video_paths = [f'./video_{i+1}.mp4' for i in range(6)]\n",
    "\n",
    "    # Step 2: Load videos using MoviePy\n",
    "    video_clips = [VideoFileClip(video) for video in video_paths]\n",
    "    \n",
    "    # Step 3: Concatenate and loop the videos until they match the song duration\n",
    "    concatenated_clip = concatenate_videoclips(video_clips)\n",
    "\n",
    "    song_audio = AudioFileClip(song_path)\n",
    "    song_duration = song_audio.duration\n",
    "    final_video_clip = loop(concatenated_clip, duration=song_duration)\n",
    "    final_video_clip = final_video_clip.set_audio(song_audio)\n",
    "\n",
    "    # Step 4: Add subtitles using ffmpeg (MoviePy)\n",
    "    # MoviePy uses ffmpeg to overlay the subtitles without ImageMagick.\n",
    "    final_video_with_subtitles = final_video_clip.subclip(0, song_duration).set_duration(song_duration).set_audio(song_audio)\n",
    "\n",
    "    # Step 5: Write the output to a file\n",
    "    output_path = f\"final_output_with_subtitles_{time.time()}.mp4\"\n",
    "    final_video_with_subtitles.write_videofile(output_path, codec='libx265', audio_codec='aac', ffmpeg_params=['-vf', f\"subtitles={srt_path}\", '-crf', '28'])\n",
    "\n",
    "    # Step 6: Clean up temporary files\n",
    "    song_audio.close()\n",
    "    final_video_clip.close()\n",
    "    concatenated_clip.close()\n",
    "    final_video_with_subtitles.close()\n",
    "    for video in video_clips:\n",
    "        video.close()\n",
    "    \n",
    "    return output_path"
   ]
  },
  {
   "cell_type": "code",
   "execution_count": 44,
   "metadata": {},
   "outputs": [
    {
     "name": "stdout",
     "output_type": "stream",
     "text": [
      "Moviepy - Building video final_output_with_subtitles_1729416223.7528567.mp4.\n",
      "MoviePy - Writing audio in final_output_with_subtitles_1729416223.7528567TEMP_MPY_wvf_snd.mp4\n"
     ]
    },
    {
     "name": "stderr",
     "output_type": "stream",
     "text": [
      "                                                                      \r"
     ]
    },
    {
     "name": "stdout",
     "output_type": "stream",
     "text": [
      "MoviePy - Done.\n",
      "Moviepy - Writing video final_output_with_subtitles_1729416223.7528567.mp4\n",
      "\n"
     ]
    },
    {
     "name": "stderr",
     "output_type": "stream",
     "text": [
      "                                                                 \r"
     ]
    },
    {
     "name": "stdout",
     "output_type": "stream",
     "text": [
      "Moviepy - Done !\n",
      "Moviepy - video ready final_output_with_subtitles_1729416223.7528567.mp4\n"
     ]
    },
    {
     "data": {
      "text/plain": [
       "'final_output_with_subtitles_1729416223.7528567.mp4'"
      ]
     },
     "execution_count": 44,
     "metadata": {},
     "output_type": "execute_result"
    }
   ],
   "source": [
    "await merge_videos_and_song_with_subtitles('./output.ass')\n"
   ]
  },
  {
   "cell_type": "code",
   "execution_count": 4,
   "metadata": {},
   "outputs": [],
   "source": [
    "import stable_whisper"
   ]
  },
  {
   "cell_type": "code",
   "execution_count": 5,
   "metadata": {},
   "outputs": [],
   "source": [
    "model = stable_whisper.load_model(\"base\")"
   ]
  },
  {
   "cell_type": "code",
   "execution_count": 8,
   "metadata": {},
   "outputs": [],
   "source": [
    "# remove everything in brackets of any sory from lyrics\n",
    "import re\n",
    "lyrics = re.sub(r'\\[.*?\\]|\\(.*?\\)', '', lyrics)\n"
   ]
  },
  {
   "cell_type": "code",
   "execution_count": 37,
   "metadata": {},
   "outputs": [
    {
     "name": "stderr",
     "output_type": "stream",
     "text": [
      "Align: 100%|██████████| 197.42/197.42 [00:00<00:00, 248.88sec/s]\n",
      "Adjustment: 100%|██████████| 83.78/83.78 [00:00<00:00, 33514.43sec/s]\n"
     ]
    }
   ],
   "source": [
    "result = model.align('./song.mp3', lyrics, language='en', fast_mode=True, regroup=False)\n"
   ]
  },
  {
   "cell_type": "code",
   "execution_count": 39,
   "metadata": {},
   "outputs": [
    {
     "data": {
      "text/plain": [
       "<stable_whisper.result.WhisperResult at 0x1afa922e780>"
      ]
     },
     "execution_count": 39,
     "metadata": {},
     "output_type": "execute_result"
    }
   ],
   "source": [
    "result"
   ]
  },
  {
   "cell_type": "code",
   "execution_count": 40,
   "metadata": {},
   "outputs": [
    {
     "name": "stdout",
     "output_type": "stream",
     "text": [
      "[0.00 -> 83.78]   Hey, it's KAYPramitO, light the room We're headed to Florida, in a Zoom   Pramit said, \"Where do you work? Oh, Wall Street Company!\" Everyone's talking, so much synergy Neon lights and city nights Deadlock season's the latest hype   Let's go shower, flash and tower 30 minutes to power, this is our hour Grab the orb, shower scene Cypher’s here, oh how we've been   Sova, Reyna, Phoenix too Headphones on backwards, what a view Jon says, \"Try not to die\" Lucy dings Phoenix, Naiyo in the sky   Let's go shower, flash and tower 30 minutes to power, this is our hour Pramit with the AWP, nothing sour Holding angles, gaming flower   What’s that dog doing? Jimmy wants to know Reyna’s lurking, sneaky like a Poe Get in position, all set, let's roll Round and round, capture the soul   KAYPramitO, take us out In this game, we’re never in doubt Shower's clear, shine bright, no fear We play for fun, year after year \n"
     ]
    }
   ],
   "source": [
    "for segment in result:\n",
    "    print(\"[%.2f -> %.2f] %s\" % (segment.start, segment.end, segment.text))\n",
    "\n"
   ]
  },
  {
   "cell_type": "code",
   "execution_count": 41,
   "metadata": {},
   "outputs": [
    {
     "name": "stdout",
     "output_type": "stream",
     "text": [
      "Saved: c:\\Users\\pmazu\\Documents\\GitHub\\BlinkStory\\output.ass\n"
     ]
    }
   ],
   "source": [
    "srt = result.to_ass('output.ass')\n"
   ]
  },
  {
   "cell_type": "code",
   "execution_count": 6,
   "metadata": {},
   "outputs": [],
   "source": [
    "import os\n",
    "import google.auth\n",
    "import google_auth_oauthlib.flow\n",
    "import googleapiclient.discovery\n",
    "import googleapiclient.errors\n",
    "from googleapiclient.http import MediaFileUpload\n",
    "from google.oauth2.credentials import Credentials\n",
    "\n",
    "class YouTubeUploader:\n",
    "    def __init__(self, client_secret_file, api_service_name=\"youtube\", api_version=\"v3\", scopes=None):\n",
    "        if scopes is None:\n",
    "            scopes = [\"https://www.googleapis.com/auth/youtube.upload\"]\n",
    "        \n",
    "        self.client_secret_file = client_secret_file\n",
    "        self.api_service_name = api_service_name\n",
    "        self.api_version = api_version\n",
    "        self.scopes = scopes\n",
    "        self.credentials = None\n",
    "        self.youtube = None\n",
    "        self.token_file = 'token.json'\n",
    "\n",
    "    def authenticate(self):\n",
    "        # OAuth 2.0 flow to get authenticated credentials\n",
    "        if os.path.exists('token.json'):\n",
    "            self.credentials = Credentials.from_authorized_user_file('token.json', self.scopes)\n",
    "                \n",
    "        # If no valid credentials, perform the OAuth flow\n",
    "        if not self.credentials or not self.credentials.valid:\n",
    "            if self.credentials and self.credentials.expired and self.credentials.refresh_token:\n",
    "                # Refresh the credentials if they're expired\n",
    "                self.credentials.refresh(google.auth.transport.requests.Request())\n",
    "            else:\n",
    "                # OAuth 2.0 flow to get authenticated credentials for the first time\n",
    "                flow = google_auth_oauthlib.flow.InstalledAppFlow.from_client_secrets_file(\n",
    "                    self.client_secret_file, self.scopes\n",
    "                )\n",
    "                self.credentials = flow.run_local_server()\n",
    "\n",
    "            # Save the credentials to a file for the next time\n",
    "            with open(self.token_file, 'w') as token:\n",
    "                token.write(self.credentials.to_json())\n",
    "        \n",
    "        # Build the YouTube service object\n",
    "        self.youtube = googleapiclient.discovery.build(\n",
    "            self.api_service_name, self.api_version, credentials=self.credentials\n",
    "        )\n",
    "\n",
    "    def upload_video(self, video_path, title, description, tags=None, category_id=\"22\", privacy_status=\"private\"):\n",
    "        if tags is None:\n",
    "            tags = []\n",
    "\n",
    "        # Set up the video upload details\n",
    "        body = {\n",
    "            \"snippet\": {\n",
    "                \"title\": title,\n",
    "                \"description\": description,\n",
    "                \"tags\": tags,\n",
    "                \"categoryId\": category_id  # Category: 22 is for 'People & Blogs'\n",
    "            },\n",
    "            \"status\": {\n",
    "                \"privacyStatus\": privacy_status  # \"public\", \"private\", or \"unlisted\"\n",
    "            }\n",
    "        }\n",
    "\n",
    "        # Upload the video file using the YouTube Data API\n",
    "        media = MediaFileUpload(video_path, chunksize=-1, resumable=True)\n",
    "\n",
    "        request = self.youtube.videos().insert(\n",
    "            part=\"snippet,status\",\n",
    "            body=body,\n",
    "            media_body=media\n",
    "        )\n",
    "\n",
    "        response = None\n",
    "        while response is None:\n",
    "            status, response = request.next_chunk()\n",
    "            if status:\n",
    "                print(f\"Uploaded {int(status.progress() * 100)}%\")\n",
    "\n",
    "        print(\"Upload complete!\")\n",
    "        print(f\"Video ID: {response['id']}\")\n",
    "        return response"
   ]
  },
  {
   "cell_type": "code",
   "execution_count": 8,
   "metadata": {},
   "outputs": [],
   "source": [
    "\n",
    "uploader = YouTubeUploader(\"client_secret.json\")\n",
    "uploader.authenticate()"
   ]
  },
  {
   "cell_type": "code",
   "execution_count": 9,
   "metadata": {},
   "outputs": [
    {
     "name": "stdout",
     "output_type": "stream",
     "text": [
      "Upload complete!\n",
      "Video ID: okXnGcHslyc\n"
     ]
    },
    {
     "data": {
      "text/plain": [
       "{'kind': 'youtube#video',\n",
       " 'etag': 'm3oklTOzemlDpsolC95uDzEHTDI',\n",
       " 'id': 'okXnGcHslyc',\n",
       " 'snippet': {'publishedAt': '2024-10-20T09:46:43Z',\n",
       "  'channelId': 'UCLVW6uqN6az8ReX015UkpCA',\n",
       "  'title': 'Your Video Title',\n",
       "  'description': 'Description of your video',\n",
       "  'thumbnails': {'default': {'url': 'https://i9.ytimg.com/vi/okXnGcHslyc/default.jpg?sqp=CJyi07gG&rs=AOn4CLAh9GoWOYBWNLPnWdmUH_-x31uiVA',\n",
       "    'width': 120,\n",
       "    'height': 90},\n",
       "   'medium': {'url': 'https://i9.ytimg.com/vi/okXnGcHslyc/mqdefault.jpg?sqp=CJyi07gG&rs=AOn4CLDcOV__AKaVnESXLYpJPdG5nKxmWw',\n",
       "    'width': 320,\n",
       "    'height': 180},\n",
       "   'high': {'url': 'https://i9.ytimg.com/vi/okXnGcHslyc/hqdefault.jpg?sqp=CJyi07gG&rs=AOn4CLBfSjzKjP5dsKMbR470bdeNXmpRsw',\n",
       "    'width': 480,\n",
       "    'height': 360}},\n",
       "  'channelTitle': 'Pramit Mazumder',\n",
       "  'tags': ['sample', 'video'],\n",
       "  'categoryId': '22',\n",
       "  'liveBroadcastContent': 'none',\n",
       "  'localized': {'title': 'Your Video Title',\n",
       "   'description': 'Description of your video'}},\n",
       " 'status': {'uploadStatus': 'uploaded',\n",
       "  'privacyStatus': 'private',\n",
       "  'license': 'youtube',\n",
       "  'embeddable': True,\n",
       "  'publicStatsViewable': True}}"
      ]
     },
     "execution_count": 9,
     "metadata": {},
     "output_type": "execute_result"
    }
   ],
   "source": [
    "uploader.upload_video(\n",
    "    video_path=\"./final_output.mp4\",\n",
    "    title=\"Your Video Title\",\n",
    "    description=\"Description of your video\",\n",
    "    tags=[\"sample\", \"video\"],\n",
    "    category_id=\"22\",  # Category ID for 'People & Blogs'\n",
    "    privacy_status=\"private\"\n",
    ")"
   ]
  }
 ],
 "metadata": {
  "kernelspec": {
   "display_name": ".venv",
   "language": "python",
   "name": "python3"
  },
  "language_info": {
   "codemirror_mode": {
    "name": "ipython",
    "version": 3
   },
   "file_extension": ".py",
   "mimetype": "text/x-python",
   "name": "python",
   "nbconvert_exporter": "python",
   "pygments_lexer": "ipython3",
   "version": "3.12.5"
  }
 },
 "nbformat": 4,
 "nbformat_minor": 2
}
